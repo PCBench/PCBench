{
 "cells": [
  {
   "cell_type": "code",
   "execution_count": 1,
   "metadata": {},
   "outputs": [
    {
     "name": "stdout",
     "output_type": "stream",
     "text": [
      "breakout-boards_swd-and-uart\n",
      "Raspberry-Pi-Soft-Power-Controller_RetroPie Power Board v1a\n",
      "xwhatits-capsense-controller_amkey-usb\n",
      "eeg_brainboard_wearable_v2\n",
      "eeg_brainboard_wearable\n",
      "teensy-touch_teensy-touch\n",
      "eurorack_headphones_eurorack_headphones\n",
      "keyboard_converter_converter\n",
      "eeg_brainboardv0\n",
      "rfidBoard_rfid\n",
      "eeg_muscleboardv0\n",
      "breakout-boards_swd-to-wires\n",
      "voltastream0-kicad_VoltaStreamZERO\n",
      "Raspberry-Pi-Soft-Power-Controller_Zero Current Soft Power\n",
      "NightClock_ESPBoard\n",
      "nan-15_pcb\n",
      "tepmachcha_tepmachcha\n",
      "Raspberry-Pi-Soft-Power-Controller_Switching Supply TPS563208 MCI\n",
      "xwhatits-capsense-controller_displaywriter-usb\n",
      "xwhatits-capsense-controller_model-f-usb\n",
      "xwhatits-capsense-controller_beamspring-usb\n",
      "HACK_hack\n",
      "xwhatits-capsense-controller_solenoid-driver\n",
      "SAMPad_SAMPad\n",
      "TCKB_Kicad_TCKB\n",
      "breakout-boards_usb-5v-3v3\n",
      "eeg_brainboardv1\n",
      "nikon_gps_nikon_gps\n",
      "breakout-boards_esp8266-jtag\n",
      "eeg_brainboardv2\n",
      "rfidBoard_POE\n",
      "breakout-boards_avr-isp-x2\n",
      "nan-15_top-plate\n",
      "xwhatits-capsense-controller_model-f-3178-adaptor\n",
      "wifi_pants_wifi_pants\n",
      "ISO-port_ch340-usb-serial-isolated\n",
      "mojo-nes_mojo-nes\n",
      "breakout-boards_50-to-100\n",
      "Atreus_54percent_rev\n",
      "SunLeaf_SunLeaf_V2\n",
      "eeg_brainboard_batteryv0\n"
     ]
    }
   ],
   "source": [
    "# Extract pcb names\n",
    "import os\n",
    "\n",
    "PCB_folder = \"../../new_PCBs/\"\n",
    "pcb_names = []\n",
    "for pcb_name in os.listdir(PCB_folder):\n",
    "    pcb_names.append(pcb_name)\n",
    "    print(pcb_name)"
   ]
  },
  {
   "cell_type": "code",
   "execution_count": 4,
   "metadata": {},
   "outputs": [],
   "source": [
    "# clean new_PCB folder\n",
    "import os\n",
    "import shutil\n",
    "\n",
    "new_PCB_folder = \"../../new_PCBs/\"\n",
    "pcb_names = list(os.listdir(new_PCB_folder))\n",
    "\n",
    "for pcb_name in pcb_names:\n",
    "    processed_name = os.path.join(new_PCB_folder, pcb_name, \"processed.kicad_pcb\")\n",
    "    if not os.path.exists(processed_name):\n",
    "        print(pcb_name)\n",
    "        shutil.rmtree(os.path.join(new_PCB_folder, pcb_name))\n",
    "    else:\n",
    "        for file in os.listdir(os.path.join(new_PCB_folder, pcb_name)):\n",
    "            if \".kicad_pcb\" not in file and \".json\" not in file:\n",
    "                # print(os.path.join(new_PCB_folder, pcb_name, file))\n",
    "                os.remove(os.path.join(new_PCB_folder, pcb_name, file))"
   ]
  },
  {
   "attachments": {},
   "cell_type": "markdown",
   "metadata": {},
   "source": [
    "# Read CSV"
   ]
  },
  {
   "cell_type": "code",
   "execution_count": 1,
   "metadata": {},
   "outputs": [],
   "source": [
    "import csv\n",
    "from functools import reduce\n",
    "\n",
    "def read_csv(file_name):\n",
    "    with open(file_name, \"r\") as f:\n",
    "        pcb_names = list(csv.reader(f, delimiter=\",\"))\n",
    "\n",
    "    pcb_names = reduce(lambda xs, ys: xs + ys, pcb_names)\n",
    "    return pcb_names"
   ]
  },
  {
   "attachments": {},
   "cell_type": "markdown",
   "metadata": {},
   "source": [
    "# Deal with fp_text"
   ]
  },
  {
   "cell_type": "code",
   "execution_count": 2,
   "metadata": {},
   "outputs": [],
   "source": [
    "from collections import defaultdict\n",
    "\n",
    "def revise_module_fp_text(pcb):\n",
    "\n",
    "    text_count = defaultdict(int)\n",
    "    for m in pcb.module:\n",
    "        text_count[m.fp_text[0][1]] += 1\n",
    "\n",
    "    print(text_count)\n",
    "    for m in pcb.module:\n",
    "        if text_count[m.fp_text[0][1]] > 1 or m.fp_text[0][1] == '\"\"' or m.fp_text[0][1] == '\" \"':\n",
    "            tmp_text = m.fp_text[0][1]\n",
    "            if tmp_text == '\"\"':\n",
    "                m.fp_text[0][1] =  f\"Noname_{text_count[tmp_text]}\"\n",
    "            elif tmp_text == '\" \"':\n",
    "                m.fp_text[0][1] =  f\"None_{text_count[tmp_text]}\"\n",
    "            else:\n",
    "                m.fp_text[0][1] =  str(tmp_text) + \"_\" + str(text_count[tmp_text])\n",
    "            del m.fp_text[0][1][0]\n",
    "            text_count[tmp_text] -= 1"
   ]
  },
  {
   "attachments": {},
   "cell_type": "markdown",
   "metadata": {},
   "source": [
    "# Deal with fill zones"
   ]
  },
  {
   "cell_type": "code",
   "execution_count": 3,
   "metadata": {},
   "outputs": [
    {
     "name": "stdout",
     "output_type": "stream",
     "text": [
      "63 ['kitspace_antenna_analyser', 'bobc_control_panel', 'bobc_matrix_clock', 'bobc_LCD-panel-adapter-lvc', 'bobc_mbeduinopresso', 'bobc_MS-F100', 'cnlohr_wiflier', 'kitspace_bbq10breakout', 'kitspace_BQ25570_Harvester', 'kitspace_Brk40p', 'kitspace_CA3306E', 'kitspace_CH330', 'kitspace_ChaosLooper', 'kitspace_CO2', 'kitspace_CocoMixtape_UGM_Kicad', 'kitspace_cseduinov4', 'kitspace_DIY_detector', 'kitspace_dynamixel_shield', 'kitspace_esp8266', 'kitspace_esp8266-12-breakout', 'kitspace_ESP8266-PowerMonitor', 'kitspace_f-91w', 'kitspace_fast_diode_pcb', 'kitspace_filaSens', 'kitspace_gas_sensor', 'kitspace_GPSMux', 'kitspace_grove_adaptor', 'kitspace_hbridge_driver', 'kitspace_Heltec_Node', 'kitspace_hum_temp_sensor', 'kitspace_ir_sensor', 'kitspace_Mixtape_Barebone', 'kitspace_nunchuk_breakout', 'kitspace_OutlineChaos', 'kitspace_PCBs', 'kitspace_pmt_combiner', 'kitspace_postcard', 'kitspace_Potentiometer_mount_4LED', 'kitspace_Potentiometer_mount_8LED', 'kitspace_Potentiometer_mount_16LED', 'kitspace_Potentiometer_mount_24LED', 'kitspace_PSLab', 'kitspace_sop8breakout', 'kitspace_ss_relay', 'kitspace_sympetrum-v2%20NFF1', 'kitspace_sympetrum-v2%20NFF1.1', 'kitspace_tomu', 'kitspace_trans_switch_volt_amp', 'kitspace_tt_nano_HAT_b1', 'kitspace_tt_nano_HAT_b2', 'kitspace_tt_opt101_module_b1', 'kitspace_TuneShroom', 'linklayer_contact', 'oskirby_logicbone', 'retroreflectors_CONGFLOCK', 'retroreflectors_FLAMENCOFLOCK', 'retroreflectors_RUMBAFLOCK', 'retroreflectors_SALSAFLOCK', 'retroreflectors_TANGOFLOCK', 'wiggleport_wiggle-spine', 'z2amiller_sensorboard', 'z2amiller_sensorboard_programmer', 'bobc_led_clock']\n",
      "kitspace_antenna_analyser\n",
      "defaultdict(<class 'int'>, {'\"\"': 2, 'P1': 1, 'P4': 1, 'DR1': 1, 'DR2': 1, 'DR4': 1, 'DR3': 1, 'C1': 1, 'C2': 1, 'C3': 1, 'C4': 1, 'C5': 1, 'C6': 1, 'D1': 1, 'D2': 1, 'ENC1': 1, 'IC1': 1, 'IC2': 1, 'P2': 1, 'P3': 1, 'P5': 1, 'R1': 1, 'R2': 1, 'R3': 1, 'R4': 1, 'R5': 1, 'R6': 1, 'R7': 1, 'R8': 1, 'R9': 1, 'R10': 1, 'R11': 1, 'U1': 1})\n",
      "bobc_control_panel\n",
      "defaultdict(<class 'int'>, {'R13': 1, 'R12': 1, 'R11': 1, 'R10': 1, 'R1': 1, 'R2': 1, 'R3': 1, 'R4': 1, 'R5': 1, 'R6': 1, 'R7': 1, 'R8': 1, 'R9': 1, 'D1': 1, 'D4': 1, 'D3': 1, 'D2': 1, 'HOLE_M32': 1, 'HOLE_M31': 1, 'HOLE_M33': 1, 'HOLE_M34': 1, 'G1': 1, 'SW5': 1, 'SW7': 1, 'SW3': 1, 'SW4': 1, 'SW1': 1, 'SW6': 1, 'SW9': 1, 'SW8': 1, 'SW2': 1, 'J1': 1, 'J2': 1, 'P1': 1, 'RV1': 1})\n",
      "bobc_matrix_clock\n",
      "defaultdict(<class 'int'>, {'DS1': 1, 'C1': 1, 'C2': 1, 'C3': 1, 'C4': 1, 'C5': 1, 'C6': 1, 'C7': 1, 'C8': 1, 'C9': 1, 'C10': 1, 'H1': 1, 'H2': 1, 'H3': 1, 'H4': 1, 'P1': 1, 'P2': 1, 'R1': 1, 'R2': 1, 'R3': 1, 'R4': 1, 'R5': 1, 'DS2': 1, 'DS3': 1, 'DS4': 1, 'DS5': 1, 'DS6': 1, 'DS7': 1, 'DS8': 1, 'DS9': 1, 'DS10': 1, 'U1': 1, 'U2': 1, 'U3': 1, 'U4': 1, 'U5': 1})\n",
      "bobc_LCD-panel-adapter-lvc\n",
      "defaultdict(<class 'int'>, {'R101': 1, 'J101': 1, 'P102': 1, 'P103': 1, 'C102': 1, 'U101': 1, 'R102': 1, 'R103': 1, 'R104': 1, 'R105': 1, 'R106': 1, 'M101': 1, 'P101': 1})\n",
      "bobc_mbeduinopresso\n",
      "defaultdict(<class 'int'>, {'J101': 1, 'SW202': 1, 'U302': 1, 'R201': 1, 'C202': 1, 'C301': 1, 'C201': 1, 'C305': 1, 'C304': 1, 'R301': 1, 'R303': 1, 'R302': 1, 'J203': 1, 'JP301': 1, 'JP303': 1, 'JP302': 1, 'JP305': 1, 'U202': 1, 'U201': 1, 'H201': 1, 'H202': 1, 'H203': 1, 'H204': 1, 'SHIELD101': 1, 'C302': 1, 'C303': 1, 'P301': 1, 'P201': 1, 'U301': 1, 'D303': 1, 'D301': 1, 'D302': 1, 'SW203': 1, 'C203': 1, 'C204': 1, 'M201': 1, 'J201': 1})\n",
      "bobc_MS-F100\n",
      "defaultdict(<class 'int'>, {'C1': 1, 'C2': 1, 'U2': 1, 'Q1': 1, 'R6': 1, 'C3': 1, 'C5': 1, 'C6': 1, 'C7': 1, 'C8': 1, 'R4': 1, 'R3': 1, 'R2': 1, 'R1': 1, 'R5': 1, 'SW2': 1, 'SW1': 1, 'P4': 1, 'P3': 1, 'P2': 1, 'P1': 1, 'D3': 1, 'D2': 1, 'M2': 1, 'D1': 1, 'L1': 1, 'M1': 1, 'U1': 1, 'U4': 1, 'U3': 1, 'C4': 1, 'X1': 1, 'R7': 1})\n",
      "cnlohr_wiflier\n",
      "defaultdict(<class 'int'>, {'U7': 1, 'J1': 1, 'X1': 1, 'Q2': 1, 'Q1': 1, 'Q3': 1, 'Q4': 1, 'U2': 1, 'U1': 1, 'U6': 1, 'C10': 1, 'L2': 1, 'C8': 1, 'C7': 1, 'C9': 1, 'C6': 1, 'C5': 1, 'C3': 1, 'L1': 1, 'C1': 1, 'C2': 1, 'C11': 1, 'U5': 1, 'CN1': 1, 'U3': 1, 'P32': 1, 'P6': 1, 'P2': 1, 'P3': 1, 'P4': 1, 'P5': 1, 'P24': 1, 'P21': 1, 'P1': 1, 'P7': 1, 'P8': 1, 'C4': 1, 'P9': 1, 'P10': 1, 'R1': 1, 'R2': 1, 'P11': 1, 'P12': 1, 'RN1': 1, 'P13': 1, 'P14': 1, 'P15': 1, 'P16': 1, 'U4': 1, 'R4': 1, 'R5': 1, 'P17': 1, 'D1': 1, 'D2': 1, 'D3': 1, 'D4': 1, 'D5': 1})\n",
      "kitspace_bbq10breakout\n",
      "defaultdict(<class 'int'>, {'J2': 1, 'J1': 1, 'C1': 1, 'U1': 1})\n",
      "kitspace_BQ25570_Harvester\n",
      "defaultdict(<class 'int'>, {'C1': 1, 'C2': 1, 'C3': 1, 'C4': 1, 'C5': 1, 'C6': 1, 'C7': 1, 'P1': 1, 'P2': 1, 'P3': 1, 'U1': 1, 'L1': 1, 'L2': 1, 'R7': 1, 'R6': 1, 'R5': 1, 'R4': 1, 'R3': 1, 'R2': 1, 'R1': 1})\n",
      "kitspace_Brk40p\n",
      "defaultdict(<class 'int'>, {'\"\"': 1, 'H1': 1, 'H2': 1, 'J2': 1, 'J1': 1})\n",
      "kitspace_CA3306E\n",
      "defaultdict(<class 'int'>, {'C4': 1, 'C2': 1, 'REF**': 2, 'XS1': 1, 'CA3306': 1, 'TXB0108': 1, 'C1': 1, 'C3': 1, 'XT1': 1})\n",
      "kitspace_CH330\n",
      "defaultdict(<class 'int'>, {'J2': 1, 'C2': 1, 'C1': 1, 'J1': 1, 'D2': 1, 'D1': 1, 'U1': 1, 'R2': 1, 'R1': 1})\n",
      "kitspace_ChaosLooper\n",
      "defaultdict(<class 'int'>, {'C1': 1, 'C2': 1, 'C3': 1, 'C4': 1, 'C5': 1, 'C6': 1, 'C7': 1, 'C8': 1, 'R1': 1, 'R2': 1, 'R3': 1, 'R4': 1, 'R5': 1, 'R6': 1, 'R8': 1, 'J1': 1, 'J2': 1, 'U1': 1, 'G***': 5, 'D1': 1, 'SW2': 1, 'SW1': 1, 'FILTER_POT1': 1, 'SPEED_POT1': 1, 'VOL_POT1': 1, 'BT1': 1, 'BT2': 1, 'REF**': 1})\n",
      "kitspace_CO2\n",
      "defaultdict(<class 'int'>, {'U6': 1, 'J2': 1, 'C7': 1, 'C6': 1, 'C5': 1, 'R7': 1, 'R6': 1, 'R5': 1, 'R4': 1, 'R3': 1, 'R2': 1, 'R1': 1, 'D5': 1, 'D4': 1, 'C4': 1, 'C3': 1, 'C2': 1, 'C1': 1, 'U3': 1, 'J5': 1, 'J4': 1, 'JP1': 1, 'Q1': 1, 'U5': 1, 'U4': 1, 'J1': 1, 'U2': 1, 'U1': 1, 'D3': 1, 'D2': 1, 'D1': 1})\n",
      "kitspace_CocoMixtape_UGM_Kicad\n",
      "defaultdict(<class 'int'>, {'U1': 1, 'D1': 1, 'LS1': 1, 'J_Aligator1': 1, 'J3': 1, 'J4': 1, 'J_Aligator5': 1, 'Coconut': 1, 'SW1': 1, 'J1': 1, 'C1': 1, 'BT1': 1, 'J_Aligator2': 1, 'J_Aligator3': 1, 'J5': 1, 'J-USB1': 1, 'R2': 1, 'R5': 1, 'R3': 1, 'R4': 1, 'D3': 1, 'R7': 1, 'R6': 1, 'D2': 1, 'C2': 1, 'R1': 1, 'J2': 1, 'J_Aligator4': 1, 'SW2': 1, '\"\"': 1})\n"
     ]
    },
    {
     "name": "stderr",
     "output_type": "stream",
     "text": [
      "('expects list of more than 2 element', [988, 'layers'])\n",
      "('expects list of more than 2 element', [1002, 'layers'])\n"
     ]
    },
    {
     "name": "stdout",
     "output_type": "stream",
     "text": [
      "kitspace_cseduinov4\n",
      "defaultdict(<class 'int'>, {'IC1': 1, 'C4': 1, 'C3': 1, 'C5': 1, 'D1': 1, 'SW1': 1, 'X1': 1, 'REF**': 4, 'P5': 1, 'P4': 1, 'P1': 1, 'P3': 1, 'P2': 1, 'C1': 1, 'C2': 1, 'D2': 1, 'R1': 1, 'R2': 1, 'U1': 1})\n",
      "kitspace_DIY_detector\n",
      "defaultdict(<class 'int'>, {'J2': 1, 'J1': 1, 'REF***': 2, 'R8': 1, 'R9': 1, 'C9': 1, 'R3': 1, 'U1': 1, 'C8': 1, 'C1': 1, 'C2': 1, 'C3': 1, 'C4': 1, 'C5': 1, 'C6': 1, 'C7': 1, 'C10': 1, 'R2': 1, 'R4': 1, 'R5': 1, 'R1': 1, 'MK7': 1, 'MK6': 1, 'D1': 1, 'D2': 1, 'D3': 1, 'D4': 1, 'R6': 1, 'R7': 1, 'MK1': 1, 'MK2': 1, 'MK3': 1, 'MK4': 1, 'MK5': 1})\n",
      "kitspace_dynamixel_shield\n",
      "defaultdict(<class 'int'>, {'SHIELD1': 1, 'P4': 1, 'D1': 1, 'JP1': 1, 'JP2': 1, 'JP3': 1, 'JP4': 1, 'P2': 1, 'P3': 1, 'Q1': 1, 'R1': 1, 'R2': 1, 'U1': 1, 'U2': 1, 'P1': 1, 'F1': 1, 'R3': 1, 'P5': 1, 'P7': 1, 'P6': 1, 'P9': 1, 'P8': 1, 'R4': 1, 'R5': 1, 'R7': 1, 'R6': 1, 'C1': 1, 'C2': 1})\n",
      "kitspace_esp8266\n",
      "defaultdict(<class 'int'>, {'P1': 1, 'REF**': 11, 'C1': 1, 'D1': 1, 'J2': 1, 'P2': 1, 'U1': 1, 'C2': 1, 'P3': 1, 'P4': 1, 'P5': 1, 'P6': 1, 'JP1': 1, 'PROG1': 1, 'RESET1': 1, 'J1': 1, 'R1': 1, 'R2': 1, 'R3': 1, 'C3': 1})\n",
      "kitspace_esp8266-12-breakout\n",
      "defaultdict(<class 'int'>, {'D1': 1, 'P1': 1, 'P2': 1, 'C1': 1, 'C2': 1, 'C3': 1, 'C4': 1, 'R1': 1, 'U1': 1, 'esp8266': 1, 'R3': 1, 'SW1': 1, 'R4': 1, 'R5': 1, 'R6': 1})\n",
      "kitspace_ESP8266-PowerMonitor\n",
      "defaultdict(<class 'int'>, {'REF**': 1, 'J5': 1, 'U2': 1, 'J2': 1, 'JP1': 1, 'R1': 1, 'R2': 1, 'R3': 1, 'R5': 1, 'R6': 1, 'SW1': 1, 'U1': 1, 'J4': 1, 'R4': 1, 'C1': 1, 'C2': 1, 'C3': 1, 'J1': 1, 'R7': 1, 'F1': 1, 'J3': 1, 'PS1': 1})\n",
      "kitspace_f-91w\n",
      "defaultdict(<class 'int'>, {'Q1': 1, 'U2': 1, 'C2': 1, 'C8': 1, 'C1': 1, 'U1': 1, 'P7': 1, 'MH5': 1, 'P15': 1, 'P1': 1, 'P2': 1, 'P8': 1, 'MH7': 1, 'P9': 1, 'MH6': 1, 'P14': 1, 'MH2': 1, 'P6': 1, 'P11': 1, 'P10': 1, 'P5': 1, 'MH3': 1, 'P3': 1, 'P4': 1, 'P13': 1, 'MH4': 1, 'MH1': 1, 'R2': 1, 'R1': 1, 'C3': 1, 'R3': 1, 'C4': 1, 'U3': 1, 'C5': 1, 'C6': 1, 'C7': 1, 'U4': 1})\n",
      "kitspace_fast_diode_pcb\n",
      "defaultdict(<class 'int'>, {'REF**': 1, 'D1': 1, 'C1': 1, 'J1': 1, 'J2': 1, 'R1': 1, 'U1': 1})\n",
      "kitspace_filaSens\n",
      "defaultdict(<class 'int'>, {'IC2': 1, 'JP1': 1, 'JP2': 1, 'H1': 1, 'H2': 1, 'SV1': 1, 'IC3': 1, 'R2': 1, 'R1': 1, 'R4': 1, 'R3': 1, 'R5': 1, 'C1': 1, 'C2': 1, 'S1': 1, 'LED1': 1})\n",
      "kitspace_gas_sensor\n",
      "defaultdict(<class 'int'>, {'G***': 1, 'REF**': 4, 'A1': 1, 'U1': 1, 'RV1': 1, 'R3': 1, 'R2': 1, 'R1': 1, 'J1': 1, 'D2': 1, 'D1': 1, 'C1': 1})\n",
      "kitspace_GPSMux\n",
      "defaultdict(<class 'int'>, {'R3': 1, 'U2': 1, 'REF**': 4, 'C1': 1, 'C2': 1, 'C3': 1, 'C4': 1, 'C5': 1, 'C6': 1, 'U1': 1, 'D1': 1, 'P1': 1, 'R1': 1, 'P4': 1, 'R2': 1, 'P2': 1, 'P3': 1})\n",
      "kitspace_grove_adaptor\n",
      "defaultdict(<class 'int'>, {'U$3': 1, 'G***': 1, 'J2': 1, 'J1': 1})\n",
      "kitspace_hbridge_driver\n",
      "defaultdict(<class 'int'>, {'G***': 1, 'J1': 1, 'REF**': 5, 'U2': 1, 'U1': 1, 'R10': 1, 'R9': 1, 'R8': 1, 'R7': 1, 'R6': 1, 'R5': 1, 'R4': 1, 'R3': 1, 'R2': 1, 'R1': 1, 'Q4': 1, 'Q3': 1, 'Q2': 1, 'Q1': 1, 'L2': 1, 'L1': 1, 'J6': 1, 'J3': 1, 'J2': 1, 'D2': 1, 'D1': 1, 'C7': 1, 'C6': 1, 'C5': 1, 'C4': 1, 'C3': 1, 'C2': 1, 'C1': 1})\n",
      "kitspace_Heltec_Node\n",
      "defaultdict(<class 'int'>, {'G***': 24, 'J1': 1, 'J2': 1, 'J3': 1, 'J4': 1, 'J5': 1, 'J6': 1, 'J7': 1, 'BT1': 1, 'J8': 1, 'REF***': 1, 'REF**': 1})\n",
      "kitspace_hum_temp_sensor\n",
      "defaultdict(<class 'int'>, {'G***': 1, 'REF**': 5, 'U1': 1, 'R2': 1, 'R1': 1, 'J1': 1, 'D1': 1, 'C1': 1})\n",
      "kitspace_ir_sensor\n",
      "defaultdict(<class 'int'>, {'R2': 1, 'R1': 1, 'Q1': 1, 'J1': 1, 'D1': 1})\n",
      "kitspace_Mixtape_Barebone\n",
      "defaultdict(<class 'int'>, {'J4': 6, 'J1': 1, 'J2': 1, 'J3': 2, 'J5': 1, 'J10': 1, 'J11': 1, 'J9': 1, 'J8': 2, 'NEO2': 1, 'NEO1': 1, 'R7': 1, 'R6': 1, 'R2': 1, 'R1': 1, 'C3': 1, 'C2': 1, 'C1': 1, 'IC1': 1, 'J7': 1})\n",
      "kitspace_nunchuk_breakout\n",
      "defaultdict(<class 'int'>, {'C2': 1, 'C1': 1, 'J1': 1, 'D1': 1, 'R2': 1, 'R1': 1, 'U1': 1, 'H2': 1, 'H1': 1, 'C4': 1, 'C3': 1, 'R3': 1, 'P1': 1, 'G***': 1})\n",
      "kitspace_OutlineChaos\n",
      "defaultdict(<class 'int'>, {'SW1': 1, 'SW2': 1, 'C1': 1, 'C2': 1, 'C3': 1, 'C4': 1, 'C5': 1, 'C6': 1, 'C7': 1, 'C8': 1, 'R1': 1, 'R2': 1, 'R3': 1, 'R4': 1, 'R5': 1, 'R6': 1, 'R7': 1, 'R8': 1, 'J1': 1, 'J2': 1, 'BT2': 1, 'BT1': 1, 'U1': 1, 'RV1': 1, 'RV2': 1, 'RV3': 1, 'G***': 3, 'D1': 1})\n",
      "kitspace_PCBs\n",
      "defaultdict(<class 'int'>, {'U1': 1, 'C1': 1, 'C2': 1, 'C3': 1, 'C4': 1, 'C5': 1, 'C6': 1, 'C7': 1, 'C8': 1, 'C9': 1, 'C10': 1, 'C11': 1, 'J1': 1, 'J2': 1, 'J3': 1, 'J4': 1, 'L1': 1, 'R1': 1, 'R2': 1, 'U2': 1, 'Y1': 1, 'Y2': 1, 'C12': 1, 'U3': 1, 'C13': 1, 'J5': 1, 'R3': 1, 'J6': 1})\n",
      "kitspace_pmt_combiner\n",
      "defaultdict(<class 'int'>, {'REF**': 3, 'C1': 1, 'C2': 1, 'J1': 1, 'J2': 1, 'J3': 1, 'J4': 1, 'R1': 1, 'R2': 1, 'R3': 1, 'R4': 1, 'R5': 1, 'R6': 1, 'R7': 1, 'SW1': 1, 'SW2': 1, 'U1': 1})\n",
      "kitspace_postcard\n",
      "defaultdict(<class 'int'>, {'BT1': 1, 'D1': 1, 'D2': 1, 'D3': 1, 'D4': 1, 'D5': 1, 'D6': 1, 'D7': 1, 'D8': 1, 'D9': 1, 'D10': 1, 'D11': 1, 'D12': 1, 'R1': 1, 'R2': 1, 'R3': 1, 'R4': 1, 'R5': 1, 'SW1': 1, 'U1': 1, 'G***': 1})\n",
      "kitspace_Potentiometer_mount_4LED\n",
      "defaultdict(<class 'int'>, {'\"From Stimlator\"': 1, '\"To LED\"': 1, '\"LED 1\"': 1, '\"LED 2\"': 1, '\"LED 3\"': 1, '\"LED 4\"': 1, 'G***': 1})\n",
      "kitspace_Potentiometer_mount_8LED\n",
      "defaultdict(<class 'int'>, {'\"LED 8\"': 1, '\"LED 7\"': 1, '\"LED 5\"': 1, '\"LED 6\"': 1, '\"To LED\"': 1, '\"From Stimlator\"': 1, '\"LED 1\"': 1, '\"LED 2\"': 1, '\"LED 3\"': 1, '\"LED 4\"': 1, 'G***': 1})\n",
      "kitspace_Potentiometer_mount_16LED\n",
      "defaultdict(<class 'int'>, {'\" LED 11\"': 1, '\"\"': 2, '\"LED 1\"': 1, '\"LED 2\"': 1, '\"LED 3\"': 1, '\"LED 4\"': 1, '\"LED 5\"': 1, '\"LED 6\"': 1, '\"LED 7\"': 1, '\"LED 8\"': 1, '\"LED 9\"': 1, '\"LED 10\"': 1, '\"LED 12\"': 1, '\"LED 13\"': 1, '\"LED 14\"': 1, '\"LED 15\"': 1, '\"LED 16\"': 1, '\"From Stimulator\"': 1, '\"To LED\"': 1, 'G***': 1})\n",
      "kitspace_Potentiometer_mount_24LED\n",
      "defaultdict(<class 'int'>, {'\"LED 1\"': 1, '\"LED 2\"': 1, '\"LED 3\"': 1, '\"LED 4\"': 1, '\"From Stimulator\"': 1, '\"To LED\"': 1, '\"LED 5\"': 1, '\"LED 6\"': 1, '\"LED 7\"': 1, '\"LED 8\"': 1, '\"LED 9\"': 1, '\"LED 10\"': 1, '\" LED 11\"': 1, '\"LED 12\"': 1, '\"LED 13\"': 1, '\"LED 14\"': 1, '\"LED 15\"': 1, '\"LED 16\"': 1, '\"LED 17\"': 1, '\"LED 18\"': 1, '\"LED 19\"': 1, '\"LED 20\"': 1, '\"LED 21\"': 1, '\"LED 22\"': 1, '\"LED 23\"': 1, '\"LED 24\"': 1, 'G***': 1})\n",
      "kitspace_PSLab\n",
      "defaultdict(<class 'int'>, {'U1': 1, 'U3': 1, 'R6': 1, 'R7': 1, 'R25': 1, 'P5': 1, 'R31': 1, 'P7': 1, 'C1': 1, 'C2': 1, 'C4': 1, 'C5': 1, 'C6': 1, 'C7': 1, 'C8': 1, 'C9': 1, 'C10': 1, 'C11': 1, 'C13': 1, 'C14': 1, 'C16': 1, 'C17': 1, 'C18': 1, 'C20': 1, 'C21': 1, 'C22': 1, 'C23': 1, 'C24': 1, 'C25': 1, 'C26': 1, 'C27': 1, 'C28': 1, 'C29': 1, 'C30': 1, 'C31': 1, 'C32': 1, 'C33': 1, 'C34': 1, 'C35': 1, 'C36': 1, 'C37': 1, 'C38': 1, 'C39': 1, 'C40': 1, 'C41': 1, 'C42': 1, 'D1': 1, 'D2': 1, 'D3': 1, 'D4': 1, 'F1': 1, 'L1': 1, 'MH1': 1, 'MH3': 1, 'MH4': 1, 'P1': 1, 'P3': 1, 'P10': 1, 'Q1': 1, 'R1': 1, 'R2': 1, 'R3': 1, 'R4': 1, 'R5': 1, 'R8': 1, 'R9': 1, 'R10': 1, 'R11': 1, 'R12': 1, 'R13': 1, 'R14': 1, 'R15': 1, 'R16': 1, 'R17': 1, 'R18': 1, 'R19': 1, 'R20': 1, 'R21': 1, 'R22': 1, 'R23': 1, 'R24': 1, 'R26': 1, 'R27': 1, 'R28': 1, 'R29': 1, 'R30': 1, 'R32': 1, 'R33': 1, 'R34': 1, 'R35': 1, 'R36': 1, 'R37': 1, 'R38': 1, 'R39': 1, 'R40': 1, 'R41': 1, 'R42': 1, 'R43': 1, 'R44': 1, 'R45': 1, 'R46': 1, 'R47': 1, 'R49': 1, 'R52': 1, 'R53': 1, 'R54': 1, 'R55': 1, 'R56': 1, 'R57': 1, 'TP1': 1, 'TP2': 1, 'U2': 1, 'U4': 1, 'U5': 1, 'U6': 1, 'U7': 1, 'U8': 1, 'U9': 1, 'U10': 1, 'U11': 1, 'U12': 1, 'U13': 1, 'U15': 1, 'U16': 1, 'RV1': 1, 'J1': 1, 'J2': 1, 'J3': 1, 'J6': 1, 'J7': 1, 'J9': 1, 'J5': 1, 'CON1': 1, 'Q2': 1, 'Q3': 1, 'J8': 1, 'X1': 1, 'J10': 1, 'J11': 1, 'J4': 1, 'J12': 1, 'C15': 1, 'C12': 1, 'C19': 1})\n",
      "kitspace_sop8breakout\n",
      "defaultdict(<class 'int'>, {'P1': 2, 'IC1': 1})\n",
      "kitspace_ss_relay\n",
      "defaultdict(<class 'int'>, {'\"group 3\"': 1, 'P1': 1, 'P2': 1, 'P3': 1, 'P4': 1, 'P5': 1, 'P6': 1, 'P7': 1, 'P8': 1, 'P9': 1, '\"group 4\"': 1, 'R3': 1, '\"group 2\"': 1, '\"group 1\"': 1, 'U1': 1, 'U2': 1, 'U3': 1, 'U4': 1, 'U5': 1, 'U6': 1, 'U7': 1, 'U8': 1, 'U9': 1, 'U10': 1, 'U11': 1, 'U12': 1, 'REF***': 1, 'REF**': 4, 'R6': 1, 'RV2': 1, 'RV1': 1, 'RV3': 1, 'RV4': 1})\n",
      "kitspace_sympetrum-v2%20NFF1\n",
      "defaultdict(<class 'int'>, {'REFa**': 1, 'C108': 1, 'U102': 1, 'REFt**': 1, 'B301': 1, 'C101': 1, 'C102': 1, 'C103': 1, 'C104': 1, 'C105': 1, 'C301': 1, 'C302': 1, 'D101': 1, 'D102': 1, 'D103': 1, 'JP301': 1, 'L301': 1, 'P101': 1, 'P301': 1, 'R1': 1, 'R102': 1, 'R103': 1, 'R104': 1, 'R105': 1, 'R106': 1, 'R301': 1, 'U101': 1, 'U301': 1, 'P102': 1, 'C106': 1, 'C107': 1, 'SW1': 1, 'SW2': 1, 'SW103': 1, 'U201': 1, 'U202': 1, 'U203': 1, 'U204': 1, 'U205': 1, 'U206': 1, 'U207': 1, 'U208': 1, 'U209': 1, 'U210': 1, 'C201': 1, 'C202': 1, 'C203': 1})\n",
      "kitspace_sympetrum-v2%20NFF1.1\n",
      "defaultdict(<class 'int'>, {'H101': 1, 'C108': 1, 'U102': 1, 'B301': 1, 'C101': 1, 'C102': 1, 'C103': 1, 'C104': 1, 'C105': 1, 'C301': 1, 'C302': 1, 'D101': 1, 'D102': 1, 'D103': 1, 'JP301': 1, 'L301': 1, 'P101': 1, 'P301': 1, 'R1': 1, 'R102': 1, 'R103': 1, 'R106': 1, 'R301': 1, 'U101': 1, 'U301': 1, 'P102': 1, 'C106': 1, 'C107': 1, 'C201': 1, 'C202': 1, 'C203': 1, 'R101': 1, 'B302': 1, 'R104': 1, 'R105': 1, 'SW1': 1, 'SW2': 1, 'SW103': 1, 'U205': 1, 'U210': 1, 'U209': 1, 'U208': 1, 'U207': 1, 'U206': 1, 'U204': 1, 'U203': 1, 'U202': 1, 'U201': 1, 'C204': 1})\n",
      "kitspace_tomu\n",
      "defaultdict(<class 'int'>, {'REF**': 1, 'P1': 1, 'R2': 1, 'D1': 1, 'C1': 1, 'C2': 1, 'C3': 1, 'D2': 1, 'R1': 1, 'R3': 1, 'R4': 1, 'P2': 1, 'U1': 1, 'W1': 1, 'W2': 1, 'P3': 1})\n",
      "kitspace_trans_switch_volt_amp\n",
      "defaultdict(<class 'int'>, {'XA1': 1, 'REF**': 1, 'BT1': 1, 'R8': 1, 'BT2': 1, 'J1': 1, 'J2': 1, 'Q1': 1, 'Q2': 1, 'R1': 1, 'R2': 1, 'R3': 1, 'R4': 1, 'R5': 1, 'R6': 1, 'R7': 1, 'R9': 1, 'R10': 1, 'U1': 1, 'U2': 1})\n",
      "kitspace_tt_nano_HAT_b1\n",
      "defaultdict(<class 'int'>, {'\"\"': 2, 'A1': 1, 'LED+': 1, 'J3': 1, 'J4': 1, 'J5': 1, 'J6': 1, 'J7': 1, 'J8': 1, 'J9': 1, 'J1': 1, 'GND': 1, 'R1': 1, 'R2': 1, 'R3': 1, 'R4': 1, 'R5': 1, 'R6': 1, 'R7': 1, 'R8': 1})\n",
      "kitspace_tt_nano_HAT_b2\n",
      "defaultdict(<class 'int'>, {'\"\"': 4, 'A1': 1, 'J7': 1, 'J3': 1, 'J4': 1, 'J5': 1, 'J6': 1, 'J8': 1, 'J9': 1, 'J1': 1, 'R1': 1, 'R2': 1, 'R3': 1, 'R4': 1, 'R5': 1, 'R6': 1, 'R7': 1, 'R8': 1, 'J2': 1, 'J10': 1, 'J11': 1, 'J12': 1})\n",
      "kitspace_tt_opt101_module_b1\n",
      "defaultdict(<class 'int'>, {'J1': 1, 'O1': 1, 'R1': 1, 'RV1': 1})\n",
      "kitspace_TuneShroom\n",
      "defaultdict(<class 'int'>, {'J1': 1, 'J2': 1, 'J3': 1, 'J4': 1, 'J5': 1, 'J6': 1, 'J7': 1, 'J8': 1, 'J9': 1, 'J10': 1, 'J11': 1, 'J12': 1, 'J13': 1, 'J14': 1, 'J15': 1, 'J16': 1, 'J17': 1, 'J18': 1, 'J19': 1, 'J20': 1, 'J21': 1, 'J22': 1, 'J23': 1, 'R1': 1, 'R2': 1, 'R3': 1, 'R4': 1, 'R5': 1, 'R6': 1, 'TH1': 1, 'TP1': 1, 'U1': 1, 'Y1': 1, 'C1': 1, 'C2': 1, 'C3': 1, 'C4': 1, 'C5': 1, 'D1': 1, 'D2': 1, 'J24': 1, 'J25': 1, '\"\"': 1})\n"
     ]
    },
    {
     "name": "stderr",
     "output_type": "stream",
     "text": [
      "('expects list of more than 2 element', [1437, 'layers'])\n",
      "('expects list of more than 2 element', [1451, 'layers'])\n"
     ]
    },
    {
     "name": "stdout",
     "output_type": "stream",
     "text": [
      "linklayer_contact\n",
      "defaultdict(<class 'int'>, {'P3': 1, 'JP1': 1, 'P1': 1, 'P2': 1, 'R1': 1, 'TP1': 1, 'TP2': 1, 'TP3': 1, 'U1': 1, 'U2': 1, 'U3': 1, 'X1': 1, 'C1': 1, 'C2': 1, 'C3': 1, 'C4': 1, 'C5': 1, 'C6': 1, 'C7': 1, 'C8': 1, 'C9': 1, 'C10': 1, 'C11': 1, 'C12': 1, 'C13': 1, 'C14': 1, 'C15': 1, 'C16': 1, 'D1': 1, 'D2': 1, 'R2': 1, 'R3': 1, 'R4': 1, 'SYM': 1, 'JP2': 1, 'JP3': 1, 'JP4': 1, 'JP5': 1, '\"\"': 2})\n",
      "oskirby_logicbone\n",
      "defaultdict(<class 'int'>, {'IC3': 1, 'IC6': 1, 'J2': 1, 'J5': 1, 'R24': 1, 'J3': 1, 'D8': 1, 'IC7': 1, 'J4': 1, 'C169': 1, 'RN4': 1, 'C120': 1, 'J6': 1, 'C123': 1, 'IC5': 1, 'C122': 1, 'IC19': 1, 'C280': 1, 'IC14': 1, 'C542': 1, 'C150': 1, 'R3': 1, 'C435': 1, 'C469': 1, 'IC13': 1, 'P9': 1, 'P8': 1, 'C261': 1, 'C108': 1, 'C109': 1, 'C116': 1, 'C118': 1, 'C151': 1, 'C152': 1, 'C157': 1, 'C158': 1, 'C160': 1, 'C154': 1, 'C161': 1, 'C153': 1, 'C163': 1, 'C164': 1, 'C166': 1, 'C167': 1, 'C201': 1, 'C210': 1, 'C211': 1, 'C220': 1, 'C221': 1, 'C230': 1, 'C231': 1, 'C255': 1, 'C260': 1, 'C300': 1, 'C301': 1, 'C303': 1, 'C304': 1, 'C305': 1, 'C306': 1, 'C307': 1, 'C308': 1, 'C309': 1, 'C310': 1, 'C311': 1, 'C312': 1, 'C313': 1, 'C314': 1, 'C315': 1, 'C316': 1, 'C317': 1, 'C318': 1, 'C319': 1, 'C400': 1, 'C401': 1, 'C402': 1, 'C403': 1, 'C404': 1, 'C405': 1, 'C406': 1, 'C410': 1, 'C411': 1, 'C414': 1, 'C415': 1, 'C413': 1, 'C421': 1, 'C422': 1, 'C423': 1, 'C424': 1, 'C425': 1, 'C426': 1, 'C430': 1, 'C431': 1, 'C434': 1, 'C433': 1, 'C440': 1, 'C441': 1, 'C442': 1, 'C461': 1, 'C463': 1, 'C464': 1, 'C465': 1, 'C500': 1, 'C505': 1, 'C506': 1, 'C507': 1, 'C533': 1, 'C543': 1, 'D2': 1, 'D3': 1, 'D4': 1, 'D5': 1, 'FB2': 1, 'FB3': 1, 'FB5': 1, 'FB7': 1, 'FB8': 1, 'FB9': 1, 'IC12': 1, 'L1': 1, 'L2': 1, 'L3': 1, 'L4': 1, 'R4': 1, 'R5': 1, 'R7': 1, 'R8': 1, 'R13': 1, 'R20': 1, 'R21': 1, 'R22': 1, 'R23': 1, 'R25': 1, 'R27': 1, 'R28': 1, 'R29': 1, 'R30': 1, 'R31': 1, 'SW1': 1, 'SW2': 1, 'Y1': 1, 'H1': 1, 'H2': 1, 'H3': 1, 'H4': 1, 'C501': 1, 'C502': 1, 'C503': 1, 'C510': 1, 'C511': 1, 'C512': 1, 'C520': 1, 'C521': 1, 'C522': 1, 'C530': 1, 'C540': 1, 'IC2': 1, 'C532': 1, 'C257': 1, 'C258': 1, 'C259': 1, 'RN1': 1, 'RN2': 1, 'RN3': 1, 'C110': 1, 'C111': 1, 'C112': 1, 'C113': 1, 'C114': 1, 'C115': 1, 'RN9': 1, 'R26': 1, 'IC4': 1, 'IC17': 1, 'IC18': 1, 'C117': 1, 'FB1': 1, 'R1': 1, 'R2': 1, 'RN7': 1, 'Q1': 1, 'RN11': 1, 'C159': 1, 'C443': 1, 'C504': 1, 'IC20': 1, 'R14': 1, 'R15': 1, 'R16': 1, 'C420': 1, 'C121': 1, 'R19': 1, 'D6': 1, 'C168': 1, 'C200': 1, 'C264': 1, 'C265': 1, 'C266': 1, 'C302': 1, 'C412': 1, 'C432': 1, 'C445': 1, 'C451': 1, 'C452': 1, 'C454': 1, 'C455': 1, 'C456': 1, 'C462': 1, 'C467': 1, 'C531': 1, 'C541': 1, 'C460': 1, 'C170': 1, 'C104': 1, 'C101': 1, 'RN5': 1, 'C102': 1, 'C162': 1, 'R10': 1, 'C165': 1, 'C251': 1, 'C252': 1, 'C250': 1, 'C253': 1, 'D7': 1, 'FB4': 1, 'IC1': 1, 'R11': 1, 'R12': 1, 'R17': 1, 'D9': 1, 'D10': 1, 'C103': 1, 'C105': 1, 'C106': 1, 'C107': 1, 'IC8': 1, 'R33': 1, 'R34': 1, 'R35': 1, 'R36': 1, 'C155': 1, 'C156': 1, 'H5': 1, 'RN6': 1, 'RN8': 1, 'IC9': 1, 'R6': 1, 'R37': 1, 'IC10': 1, 'R18': 1, 'R32': 1, 'C124': 1, 'R38': 1, 'J7': 1, 'C198': 1, 'C199': 1, 'C119': 1, 'C125': 1, 'C126': 1, 'C127': 1, 'TP1': 1, 'R39': 1, 'TP2': 1, 'TP3': 1, 'TP4': 1, 'TP5': 1, 'D1': 1, 'TP6': 1, 'FID1': 1, 'FID2': 1, 'FID3': 1, 'FID4': 1, 'FID5': 1, 'FID6': 1, 'J1': 1})\n",
      "retroreflectors_CONGFLOCK\n",
      "defaultdict(<class 'int'>, {'R2': 1, 'R1': 1, 'Q1': 1, 'P2': 1, 'P1': 1, 'R4': 1, 'R3': 1})\n",
      "retroreflectors_FLAMENCOFLOCK\n",
      "defaultdict(<class 'int'>, {'R2': 1, 'P2': 1, 'Q1': 1, 'J1': 1, 'J2': 1})\n",
      "retroreflectors_RUMBAFLOCK\n",
      "defaultdict(<class 'int'>, {'R2': 1, 'R1': 1, 'P2': 1, 'P1': 1, 'R4': 1, 'R3': 1, 'D1': 1})\n",
      "retroreflectors_SALSAFLOCK\n",
      "defaultdict(<class 'int'>, {'R4': 1, 'R2': 1, 'R1': 1, 'P2': 1, 'R3': 1, 'J1': 1, 'J2': 1, 'R5': 1, 'C2': 1, 'R6': 1, 'C1': 1, 'D2': 1, 'D1': 1, 'Q1': 1, 'Q2': 1})\n",
      "retroreflectors_TANGOFLOCK\n",
      "defaultdict(<class 'int'>, {'R2': 1, 'P2': 1, 'Q1': 1, 'J1': 1, 'J2': 1})\n",
      "wiggleport_wiggle-spine\n",
      "defaultdict(<class 'int'>, {'REF**': 9, 'CON5': 1, 'T1': 1, 'U13': 1, 'U12': 1, 'U14': 1, 'X2': 1, 'U7': 1, 'U1': 1, 'U3': 1, 'U5': 1, 'U4': 1, 'U8': 1, 'CON4': 1, 'U6': 1, 'U2': 1, 'C5': 1, 'C6': 1, 'Q1': 1, 'L2': 1, 'D8': 1, 'D3': 1, 'CON6': 1, 'CON7': 1, 'D5': 1, 'C20': 1, 'FB1': 1, 'C79': 1, 'CON1': 1, 'C8': 1, 'CON2': 1, 'C2': 1, 'C3': 1, 'C4': 1, 'C7': 1, 'C9': 1, 'C10': 1, 'C11': 1, 'C12': 1, 'C13': 1, 'C14': 1, 'C15': 1, 'C16': 1, 'C17': 1, 'C22': 1, 'C23': 1, 'C18': 1, 'C25': 1, 'C26': 1, 'C29': 1, 'C30': 1, 'C27': 1, 'C28': 1, 'C31': 1, 'C32': 1, 'C33': 1, 'C34': 1, 'C35': 1, 'C36': 1, 'C37': 1, 'C38': 1, 'C39': 1, 'C40': 1, 'C41': 1, 'C42': 1, 'C47': 1, 'C48': 1, 'C49': 1, 'C56': 1, 'C57': 1, 'C58': 1, 'C62': 1, 'C63': 1, 'C64': 1, 'C65': 1, 'C66': 1, 'C67': 1, 'C68': 1, 'C69': 1, 'C70': 1, 'C71': 1, 'C72': 1, 'C73': 1, 'C74': 1, 'C75': 1, 'C76': 1, 'C77': 1, 'C78': 1, 'C80': 1, 'C82': 1, 'C83': 1, 'C84': 1, 'CON3': 1, 'D4': 1, 'D2': 1, 'D6': 1, 'D7': 1, 'D9': 1, 'F2': 1, 'FB2': 1, 'FB3': 1, 'FB4': 1, 'FB5': 1, 'FB6': 1, 'FB9': 1, 'Q2': 1, 'Q3': 1, 'R1': 1, 'R2': 1, 'R3': 1, 'R4': 1, 'R5': 1, 'R6': 1, 'R7': 1, 'R8': 1, 'R9': 1, 'R10': 1, 'R13': 1, 'R14': 1, 'R15': 1, 'R16': 1, 'R21': 1, 'R22': 1, 'R23': 1, 'R24': 1, 'R25': 1, 'R26': 1, 'R27': 1, 'R28': 1, 'R29': 1, 'R30': 1, 'R31': 1, 'R32': 1, 'R33': 1, 'R34': 1, 'R35': 1, 'R36': 1, 'R37': 1, 'R38': 1, 'X1': 1, 'C1': 1, 'R17': 1, 'R18': 1, 'R19': 1, 'MOD1': 1, 'MOD2': 1, 'MOD3': 1, 'MOD4': 1, 'MOD5': 1, 'MOD6': 1, 'MOD7': 1, 'FB7': 1, 'FB8': 1, 'C19': 1, 'C24': 1, 'C45': 1, 'C46': 1, 'C52': 1, 'C54': 1, 'C55': 1, 'C61': 1, 'C81': 1, 'F1': 1, 'R11': 1, 'R12': 1, 'R20': 1, 'C85': 1, 'C21': 1, 'L1': 1, 'U9': 1, 'U10': 1, 'U11': 1, 'D1': 1, 'C59': 1, 'C53': 1, 'C51': 1, 'C44': 1, 'C43': 1, 'C50': 1, 'C60': 1, 'G***': 2})\n",
      "z2amiller_sensorboard\n",
      "defaultdict(<class 'int'>, {'C1': 1, 'C2': 1, 'P2': 1, 'U1': 1, 'R4': 1, 'R3': 1, 'R2': 1, 'R1': 1, 'C5': 1, 'C3': 1, 'C4': 1, 'R5': 1, 'R6': 1, 'C6': 1, 'D1': 1, 'P1': 1, 'R7': 1, 'R8': 1, 'R9': 1, 'U2': 1, 'L1': 1, 'R10': 1, 'R11': 1, 'U3': 1, 'C7': 1})\n",
      "z2amiller_sensorboard_programmer\n",
      "defaultdict(<class 'int'>, {'\"USB MODULE\"': 1, 'P2': 1, 'RESET': 1, 'PROG': 1, 'USB': 1, 'ESP': 1, 'R1': 1, 'R2': 1})\n",
      "bobc_led_clock\n",
      "defaultdict(<class 'int'>, {'Q1': 1, 'Q2': 1, 'Q3': 1, 'P1': 1, 'P3': 1, 'H2': 1, 'H3': 1, 'H4': 1, 'H1': 1, 'M1': 1, 'R1': 1, 'R2': 1, 'R3': 1, 'R4': 1, 'R5': 1, 'R6': 1, 'R7': 1, 'R8': 1, 'R9': 1, 'R10': 1, 'R11': 1, 'P4': 1, 'C1': 1, 'BT1': 1, 'D17': 1, 'D27': 1, 'D18': 1, 'D9': 1, 'D7': 1, 'D16': 1, 'D25': 1, 'D8': 1, 'D26': 1, 'D19': 1, 'D10': 1, 'D1': 1, 'D14': 1, 'D23': 1, 'D6': 1, 'D15': 1, 'D24': 1, 'D5': 1, 'D2': 1, 'D11': 1, 'D20': 1, 'D3': 1, 'D12': 1, 'D21': 1, 'D13': 1, 'D22': 1, 'D4': 1, 'U2': 1, 'R12': 1, 'TH1': 1, 'C2': 1, 'P5': 1, 'M2': 1, 'R13': 1, 'R14': 1, 'R15': 1, 'SW1': 1, 'SW2': 1, 'U1': 1, 'P6': 1, 'P2': 1})\n"
     ]
    }
   ],
   "source": [
    "import sys\n",
    "sys.path.append('..')\n",
    "from Data_extraction.thirdparty.kicad_parser.kicad_pcb import *\n",
    "\n",
    "import os\n",
    "\n",
    "def delete_segment_via(pcb, delete_nets):\n",
    "\n",
    "    seg_idx = []\n",
    "    via_idx = []\n",
    "    for i in range(len(pcb.segment)):\n",
    "        if pcb.segment[i].net in delete_nets:\n",
    "            seg_idx.append(i)\n",
    "    seg_idx.sort()\n",
    "    for i in range(len(pcb.via)):\n",
    "        if pcb.via[i].net in delete_nets:\n",
    "            via_idx.append(i)\n",
    "    via_idx.sort()\n",
    "    # print(seg_idx, via_idx)\n",
    "\n",
    "    bc = 0\n",
    "    for i in seg_idx:\n",
    "        del_i = i - bc\n",
    "        if pcb.segment[del_i].net in delete_nets:\n",
    "            del pcb.segment[del_i]\n",
    "            bc += 1\n",
    "        else:\n",
    "            print(f\"{i} is not in the delete net for segment\")\n",
    "\n",
    "    bc = 0\n",
    "    for i in via_idx:\n",
    "        del_i = i - bc\n",
    "        if pcb.via[del_i].net in delete_nets:\n",
    "            del pcb.via[del_i]\n",
    "            bc += 1\n",
    "        else:\n",
    "            print(f\"{i} is not in the delete net for via\")\n",
    "\n",
    "\n",
    "pcb_names = read_csv(\"good_raw.csv\")\n",
    "\n",
    "print(len(pcb_names), pcb_names)\n",
    "\n",
    "fill_zone_folder = \"good_raws\"\n",
    "if not os.path.exists(fill_zone_folder):\n",
    "    os.mkdir(fill_zone_folder)\n",
    "\n",
    "for name in pcb_names:\n",
    "    pcb_file_path = \"../../PCBs_new/\" + name + \"/raw.kicad_pcb\"\n",
    "    new_pcb_name = name + \".kicad_pcb\"\n",
    "    pcb = KicadPCB.load(pcb_file_path)\n",
    "    fill_zone_nets = set([])\n",
    "    for zone in pcb.zone:\n",
    "        fill_zone_nets.add(zone.net)\n",
    "    print(name)\n",
    "    del pcb.zone\n",
    "    delete_segment_via(pcb, fill_zone_nets)\n",
    "    revise_module_fp_text(pcb)\n",
    "    pcb.export(os.path.join(fill_zone_folder, new_pcb_name))\n",
    "\n"
   ]
  },
  {
   "attachments": {},
   "cell_type": "markdown",
   "metadata": {},
   "source": [
    "# Check FreeRouting results"
   ]
  },
  {
   "cell_type": "code",
   "execution_count": 2,
   "metadata": {},
   "outputs": [
    {
     "name": "stdout",
     "output_type": "stream",
     "text": [
      "kitspace_d20_r0.1\n",
      "kitspace_d20_tri_r0.2\n",
      "kitspace_d20_tri_r0.3\n",
      "kitspace_EEZ%20DIB%20MCU%20r1B2\n",
      "kitspace_glasgow\n",
      "kitspace_lpa96\n",
      "kitspace_mppt-1210-hus\n",
      "kitspace_OtterCastAmp\n",
      "kitspace_tri_panel_4up_r0.1\n",
      "kitspace_ulx3s\n",
      "kitspace_ulx4m\n",
      "kitspace_USB-C-Screen-Adapter\n",
      "LibreSolar_MPPT_charger_20A\n"
     ]
    }
   ],
   "source": [
    "import os\n",
    "\n",
    "pcb_names = read_csv(\"route_fill_zones.csv\")\n",
    "results_folder = \"./deleted_fill_zones/\"\n",
    "resuts_files = list(os.listdir(results_folder))\n",
    "for pcb_name in pcb_names:\n",
    "    res_name = pcb_name + \".ses\"\n",
    "    if res_name not in resuts_files:\n",
    "        print(pcb_name)\n",
    "    "
   ]
  },
  {
   "attachments": {},
   "cell_type": "markdown",
   "metadata": {},
   "source": [
    "# Update PCBs folder\n",
    "\n",
    "Put processed.kicad_pcb into folder"
   ]
  },
  {
   "cell_type": "code",
   "execution_count": 4,
   "metadata": {},
   "outputs": [
    {
     "name": "stdout",
     "output_type": "stream",
     "text": [
      "['kitspace_antenna_analyser', 'bobc_control_panel', 'bobc_matrix_clock', 'bobc_LCD-panel-adapter-lvc', 'bobc_mbeduinopresso', 'bobc_MS-F100', 'cnlohr_wiflier', 'kitspace_bbq10breakout', 'kitspace_BQ25570_Harvester', 'kitspace_Brk40p', 'kitspace_CA3306E', 'kitspace_CH330', 'kitspace_ChaosLooper', 'kitspace_CO2', 'kitspace_CocoMixtape_UGM_Kicad', 'kitspace_cseduinov4', 'kitspace_DIY_detector', 'kitspace_dynamixel_shield', 'kitspace_esp8266', 'kitspace_esp8266-12-breakout', 'kitspace_ESP8266-PowerMonitor', 'kitspace_f-91w', 'kitspace_fast_diode_pcb', 'kitspace_filaSens', 'kitspace_gas_sensor', 'kitspace_GPSMux', 'kitspace_grove_adaptor', 'kitspace_hbridge_driver', 'kitspace_Heltec_Node', 'kitspace_hum_temp_sensor', 'kitspace_ir_sensor', 'kitspace_Mixtape_Barebone', 'kitspace_nunchuk_breakout', 'kitspace_OutlineChaos', 'kitspace_PCBs', 'kitspace_pmt_combiner', 'kitspace_postcard', 'kitspace_Potentiometer_mount_4LED', 'kitspace_Potentiometer_mount_8LED', 'kitspace_Potentiometer_mount_16LED', 'kitspace_Potentiometer_mount_24LED', 'kitspace_PSLab', 'kitspace_sop8breakout', 'kitspace_ss_relay', 'kitspace_sympetrum-v2%20NFF1', 'kitspace_sympetrum-v2%20NFF1.1', 'kitspace_tomu', 'kitspace_trans_switch_volt_amp', 'kitspace_tt_nano_HAT_b1', 'kitspace_tt_nano_HAT_b2', 'kitspace_tt_opt101_module_b1', 'kitspace_TuneShroom', 'linklayer_contact', 'oskirby_logicbone', 'retroreflectors_CONGFLOCK', 'retroreflectors_FLAMENCOFLOCK', 'retroreflectors_RUMBAFLOCK', 'retroreflectors_SALSAFLOCK', 'retroreflectors_TANGOFLOCK', 'wiggleport_wiggle-spine', 'z2amiller_sensorboard', 'z2amiller_sensorboard_programmer', 'bobc_led_clock']\n",
      "['bishboria_ErgoDox', 'cnlohr_wiflier_B', '1Bitsy_1bitsy', 'devttys0_IRis', 'hamityanik_ULP-Weather-Logger', 'hwstar_ac-power-monitor', 'jadonk_PocketBone', 'JavierIH_kameshield', 'kitspace__autosave-nunchuk_breakout', 'kitspace__autosave-postcard', 'kitspace_4_switch_array', 'kitspace_8_switch_array', 'kitspace_12_24_boost_converter', 'kitspace_12V5A_breakout', 'kitspace_40-channel-hv-switching-board', 'kitspace_120-channel-pogo-pin-board', 'kitspace_120-channel-test-board', 'kitspace_aquarius', 'kitspace_ardfpga', 'kitspace_Arduino_uno_sheild', 'kitspace_BalthazarKeyboard3-keycaps', 'kitspace_bomanz', 'kitspace_Control%20Board', 'kitspace_d20_r0.1', 'kitspace_Driverino-Shield', 'kitspace_dropbot_control_board', 'kitspace_dropbot-front-panel', 'kitspace_EEZ%20DIB%20MCU%20r1B2', 'kitspace_ESPTINY86_Mixtape_version2', 'kitspace_esptiny86_Stompbox', 'kitspace_firefly', 'kitspace_flypi', 'kitspace_flypi_v2', 'kitspace_glasgow', 'kitspace_hack', 'kitspace_hp_led_switch', 'kitspace_ideal_diode', 'kitspace_Lcr_addon', 'kitspace_LED%20Zappelin', 'kitspace_led_driver', 'kitspace_level_shifter', 'kitspace_lpa96', 'kitspace_mppt-1210-hus', 'kitspace_neotron-32', 'kitspace_OpenSpritzer_1.3', 'kitspace_OtterCastAmp', 'kitspace_OtterPillG', 'kitspace_OtterScreen', 'kitspace_peltier', 'kitspace_PIS', 'kitspace_push-on-hold-off', 'kitspace_PWR', 'kitspace_RPi_shield', 'kitspace_sensor', 'kitspace_spike_n_hold', 'kitspace_stack-light', 'kitspace_sympetrum-v2%20FF1.1', 'kitspace_T32_ref', 'kitspace_teensy-fx', 'kitspace_temp_breakout', 'kitspace_test-jig', 'kitspace_threeboard', 'kitspace_tri_panel_4up_r0.1', 'kitspace_ulx3s', 'kitspace_ulx4m', 'kitspace_USB-C-Screen-Adapter', 'kitspace_USB-C-Screen-Adapter-LDR6023SS', 'kitspace_USBee32-S2', 'kitspace_USB-LED-Otter', 'kitspace_XassetteAsterisk', 'LibreSolar_MPPT_charger_20A', 'moonpunchorg_pcieduino', 'opendous_Upconverter', 'rjw57_cpu-board', 'tmk_HHKB_controller', 'Ttl_wlan_radar']\n"
     ]
    }
   ],
   "source": [
    "import os\n",
    "import shutil\n",
    "\n",
    "good_raw = read_csv(\"./good_raw.csv\")\n",
    "fill_zones_pcbs = read_csv(\"./route_fill_zones.csv\")\n",
    "print(good_raw)\n",
    "print(fill_zones_pcbs)\n",
    "\n",
    "pcb_folder = '../../PCBs/'\n",
    "for pcb in os.listdir(pcb_folder):\n",
    "    target = '../../PCBs/' + pcb + '/processed.kicad_pcb'\n",
    "    if pcb in good_raw:\n",
    "        source = './good_raws/' + pcb + '.kicad_pcb'\n",
    "        shutil.copy(source, target)\n",
    "    elif pcb in fill_zones_pcbs:\n",
    "        source = './deleted_fill_zones/' + pcb + \".kicad_pcb\"\n",
    "        shutil.copy(source, target)\n",
    "    elif os.path.exists(target):\n",
    "        os.remove(target)\n",
    "\n",
    "    if os.path.exists('../../PCBs/' + pcb + '/error.log'):\n",
    "        os.remove('../../PCBs/' + pcb + '/error.log')\n",
    "\n",
    "    if os.path.exists('../../PCBs/' + pcb + '/final.json'):\n",
    "        os.remove('../../PCBs/' + pcb + '/final.json')\n"
   ]
  },
  {
   "cell_type": "code",
   "execution_count": null,
   "metadata": {},
   "outputs": [],
   "source": []
  }
 ],
 "metadata": {
  "kernelspec": {
   "display_name": "PCBench",
   "language": "python",
   "name": "python3"
  },
  "language_info": {
   "codemirror_mode": {
    "name": "ipython",
    "version": 3
   },
   "file_extension": ".py",
   "mimetype": "text/x-python",
   "name": "python",
   "nbconvert_exporter": "python",
   "pygments_lexer": "ipython3",
   "version": "3.8.17"
  },
  "orig_nbformat": 4
 },
 "nbformat": 4,
 "nbformat_minor": 2
}
