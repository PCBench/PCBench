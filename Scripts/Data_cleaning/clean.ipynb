{
 "cells": [
  {
   "attachments": {},
   "cell_type": "markdown",
   "metadata": {},
   "source": [
    "# Read CSV"
   ]
  },
  {
   "cell_type": "code",
   "execution_count": 6,
   "metadata": {},
   "outputs": [],
   "source": [
    "import csv\n",
    "from functools import reduce\n",
    "\n",
    "def read_csv(file_name):\n",
    "    with open(file_name, \"r\") as f:\n",
    "        pcb_names = list(csv.reader(f, delimiter=\",\"))\n",
    "\n",
    "    pcb_names = reduce(lambda xs, ys: xs + ys, pcb_names)\n",
    "    return pcb_names"
   ]
  },
  {
   "attachments": {},
   "cell_type": "markdown",
   "metadata": {},
   "source": [
    "# Deal with fp_text"
   ]
  },
  {
   "cell_type": "code",
   "execution_count": 7,
   "metadata": {},
   "outputs": [],
   "source": [
    "from collections import defaultdict\n",
    "\n",
    "def revise_module_fp_text(pcb):\n",
    "\n",
    "    text_count = defaultdict(int)\n",
    "    for m in pcb.module:\n",
    "        text_count[m.fp_text[0][1]] += 1\n",
    "\n",
    "    print(text_count)\n",
    "    for m in pcb.module:\n",
    "        if text_count[m.fp_text[0][1]] > 1 or m.fp_text[0][1] == '\"\"' or m.fp_text[0][1] == '\" \"':\n",
    "            tmp_text = m.fp_text[0][1]\n",
    "            if tmp_text == '\"\"':\n",
    "                m.fp_text[0][1] =  f\"Noname_{text_count[tmp_text]}\"\n",
    "            elif tmp_text == '\" \"':\n",
    "                m.fp_text[0][1] =  f\"None_{text_count[tmp_text]}\"\n",
    "            else:\n",
    "                m.fp_text[0][1] =  str(tmp_text) + \"_\" + str(text_count[tmp_text])\n",
    "            del m.fp_text[0][1][0]\n",
    "            text_count[tmp_text] -= 1"
   ]
  },
  {
   "attachments": {},
   "cell_type": "markdown",
   "metadata": {},
   "source": [
    "# Deal with fill zones"
   ]
  },
  {
   "cell_type": "code",
   "execution_count": 8,
   "metadata": {},
   "outputs": [],
   "source": [
    "import sys\n",
    "sys.path.append('..')\n",
    "from Data_extraction.thirdparty.kicad_parser.kicad_pcb import *\n",
    "\n",
    "import os\n",
    "\n",
    "def delete_segment_via(pcb, delete_nets):\n",
    "\n",
    "    seg_idx = []\n",
    "    via_idx = []\n",
    "    for i in range(len(pcb.segment)):\n",
    "        if pcb.segment[i].net in delete_nets:\n",
    "            seg_idx.append(i)\n",
    "    seg_idx.sort()\n",
    "    for i in range(len(pcb.via)):\n",
    "        if pcb.via[i].net in delete_nets:\n",
    "            via_idx.append(i)\n",
    "    via_idx.sort()\n",
    "    # print(seg_idx, via_idx)\n",
    "\n",
    "    bc = 0\n",
    "    for i in seg_idx:\n",
    "        del_i = i - bc\n",
    "        if pcb.segment[del_i].net in delete_nets:\n",
    "            del pcb.segment[del_i]\n",
    "            bc += 1\n",
    "        else:\n",
    "            print(f\"{i} is not in the delete net for segment\")\n",
    "\n",
    "    bc = 0\n",
    "    for i in via_idx:\n",
    "        del_i = i - bc\n",
    "        if pcb.via[del_i].net in delete_nets:\n",
    "            del pcb.via[del_i]\n",
    "            bc += 1\n",
    "        else:\n",
    "            print(f\"{i} is not in the delete net for via\")\n",
    "\n",
    "\n",
    "# pcb_names = read_csv(\"good_raw.csv\")\n",
    "\n",
    "# print(len(pcb_names), pcb_names)\n",
    "\n",
    "# fill_zone_folder = \"good_raws\"\n",
    "# if not os.path.exists(fill_zone_folder):\n",
    "#     os.mkdir(fill_zone_folder)\n",
    "\n",
    "# for name in pcb_names:\n",
    "#     pcb_file_path = \"../../PCBs_new/\" + name + \"/raw.kicad_pcb\"\n",
    "#     new_pcb_name = name + \".kicad_pcb\"\n",
    "#     pcb = KicadPCB.load(pcb_file_path)\n",
    "#     fill_zone_nets = set([])\n",
    "#     for zone in pcb.zone:\n",
    "#         fill_zone_nets.add(zone.net)\n",
    "#     print(name)\n",
    "#     del pcb.zone\n",
    "#     delete_segment_via(pcb, fill_zone_nets)\n",
    "#     revise_module_fp_text(pcb)\n",
    "#     pcb.export(os.path.join(fill_zone_folder, new_pcb_name))\n",
    "\n"
   ]
  },
  {
   "attachments": {},
   "cell_type": "markdown",
   "metadata": {},
   "source": [
    "# Check FreeRouting results"
   ]
  },
  {
   "cell_type": "code",
   "execution_count": 2,
   "metadata": {},
   "outputs": [
    {
     "name": "stdout",
     "output_type": "stream",
     "text": [
      "kitspace_d20_r0.1\n",
      "kitspace_d20_tri_r0.2\n",
      "kitspace_d20_tri_r0.3\n",
      "kitspace_EEZ%20DIB%20MCU%20r1B2\n",
      "kitspace_glasgow\n",
      "kitspace_lpa96\n",
      "kitspace_mppt-1210-hus\n",
      "kitspace_OtterCastAmp\n",
      "kitspace_tri_panel_4up_r0.1\n",
      "kitspace_ulx3s\n",
      "kitspace_ulx4m\n",
      "kitspace_USB-C-Screen-Adapter\n",
      "LibreSolar_MPPT_charger_20A\n"
     ]
    }
   ],
   "source": [
    "import os\n",
    "\n",
    "pcb_names = read_csv(\"route_fill_zones.csv\")\n",
    "results_folder = \"./deleted_fill_zones/\"\n",
    "resuts_files = list(os.listdir(results_folder))\n",
    "for pcb_name in pcb_names:\n",
    "    res_name = pcb_name + \".ses\"\n",
    "    if res_name not in resuts_files:\n",
    "        print(pcb_name)\n",
    "    "
   ]
  },
  {
   "attachments": {},
   "cell_type": "markdown",
   "metadata": {},
   "source": [
    "# Update PCBs folder\n",
    "\n",
    "Put processed.kicad_pcb into folder"
   ]
  },
  {
   "cell_type": "code",
   "execution_count": 4,
   "metadata": {},
   "outputs": [
    {
     "name": "stdout",
     "output_type": "stream",
     "text": [
      "['kitspace_antenna_analyser', 'bobc_control_panel', 'bobc_matrix_clock', 'bobc_LCD-panel-adapter-lvc', 'bobc_mbeduinopresso', 'bobc_MS-F100', 'cnlohr_wiflier', 'kitspace_bbq10breakout', 'kitspace_BQ25570_Harvester', 'kitspace_Brk40p', 'kitspace_CA3306E', 'kitspace_CH330', 'kitspace_ChaosLooper', 'kitspace_CO2', 'kitspace_CocoMixtape_UGM_Kicad', 'kitspace_cseduinov4', 'kitspace_DIY_detector', 'kitspace_dynamixel_shield', 'kitspace_esp8266', 'kitspace_esp8266-12-breakout', 'kitspace_ESP8266-PowerMonitor', 'kitspace_f-91w', 'kitspace_fast_diode_pcb', 'kitspace_filaSens', 'kitspace_gas_sensor', 'kitspace_GPSMux', 'kitspace_grove_adaptor', 'kitspace_hbridge_driver', 'kitspace_Heltec_Node', 'kitspace_hum_temp_sensor', 'kitspace_ir_sensor', 'kitspace_Mixtape_Barebone', 'kitspace_nunchuk_breakout', 'kitspace_OutlineChaos', 'kitspace_PCBs', 'kitspace_pmt_combiner', 'kitspace_postcard', 'kitspace_Potentiometer_mount_4LED', 'kitspace_Potentiometer_mount_8LED', 'kitspace_Potentiometer_mount_16LED', 'kitspace_Potentiometer_mount_24LED', 'kitspace_PSLab', 'kitspace_sop8breakout', 'kitspace_ss_relay', 'kitspace_sympetrum-v2%20NFF1', 'kitspace_sympetrum-v2%20NFF1.1', 'kitspace_tomu', 'kitspace_trans_switch_volt_amp', 'kitspace_tt_nano_HAT_b1', 'kitspace_tt_nano_HAT_b2', 'kitspace_tt_opt101_module_b1', 'kitspace_TuneShroom', 'linklayer_contact', 'oskirby_logicbone', 'retroreflectors_CONGFLOCK', 'retroreflectors_FLAMENCOFLOCK', 'retroreflectors_RUMBAFLOCK', 'retroreflectors_SALSAFLOCK', 'retroreflectors_TANGOFLOCK', 'wiggleport_wiggle-spine', 'z2amiller_sensorboard', 'z2amiller_sensorboard_programmer', 'bobc_led_clock']\n",
      "['bishboria_ErgoDox', 'cnlohr_wiflier_B', '1Bitsy_1bitsy', 'devttys0_IRis', 'hamityanik_ULP-Weather-Logger', 'hwstar_ac-power-monitor', 'jadonk_PocketBone', 'JavierIH_kameshield', 'kitspace__autosave-nunchuk_breakout', 'kitspace__autosave-postcard', 'kitspace_4_switch_array', 'kitspace_8_switch_array', 'kitspace_12_24_boost_converter', 'kitspace_12V5A_breakout', 'kitspace_40-channel-hv-switching-board', 'kitspace_120-channel-pogo-pin-board', 'kitspace_120-channel-test-board', 'kitspace_aquarius', 'kitspace_ardfpga', 'kitspace_Arduino_uno_sheild', 'kitspace_BalthazarKeyboard3-keycaps', 'kitspace_bomanz', 'kitspace_Control%20Board', 'kitspace_d20_r0.1', 'kitspace_Driverino-Shield', 'kitspace_dropbot_control_board', 'kitspace_dropbot-front-panel', 'kitspace_EEZ%20DIB%20MCU%20r1B2', 'kitspace_ESPTINY86_Mixtape_version2', 'kitspace_esptiny86_Stompbox', 'kitspace_firefly', 'kitspace_flypi', 'kitspace_flypi_v2', 'kitspace_glasgow', 'kitspace_hack', 'kitspace_hp_led_switch', 'kitspace_ideal_diode', 'kitspace_Lcr_addon', 'kitspace_LED%20Zappelin', 'kitspace_led_driver', 'kitspace_level_shifter', 'kitspace_lpa96', 'kitspace_mppt-1210-hus', 'kitspace_neotron-32', 'kitspace_OpenSpritzer_1.3', 'kitspace_OtterCastAmp', 'kitspace_OtterPillG', 'kitspace_OtterScreen', 'kitspace_peltier', 'kitspace_PIS', 'kitspace_push-on-hold-off', 'kitspace_PWR', 'kitspace_RPi_shield', 'kitspace_sensor', 'kitspace_spike_n_hold', 'kitspace_stack-light', 'kitspace_sympetrum-v2%20FF1.1', 'kitspace_T32_ref', 'kitspace_teensy-fx', 'kitspace_temp_breakout', 'kitspace_test-jig', 'kitspace_threeboard', 'kitspace_tri_panel_4up_r0.1', 'kitspace_ulx3s', 'kitspace_ulx4m', 'kitspace_USB-C-Screen-Adapter', 'kitspace_USB-C-Screen-Adapter-LDR6023SS', 'kitspace_USBee32-S2', 'kitspace_USB-LED-Otter', 'kitspace_XassetteAsterisk', 'LibreSolar_MPPT_charger_20A', 'moonpunchorg_pcieduino', 'opendous_Upconverter', 'rjw57_cpu-board', 'tmk_HHKB_controller', 'Ttl_wlan_radar']\n"
     ]
    }
   ],
   "source": [
    "import os\n",
    "import shutil\n",
    "\n",
    "good_raw = read_csv(\"./good_raw.csv\")\n",
    "fill_zones_pcbs = read_csv(\"./route_fill_zones.csv\")\n",
    "print(good_raw)\n",
    "print(fill_zones_pcbs)\n",
    "\n",
    "pcb_folder = '../../PCBs/'\n",
    "for pcb in os.listdir(pcb_folder):\n",
    "    target = '../../PCBs/' + pcb + '/processed.kicad_pcb'\n",
    "    if pcb in good_raw:\n",
    "        source = './good_raws/' + pcb + '.kicad_pcb'\n",
    "        shutil.copy(source, target)\n",
    "    elif pcb in fill_zones_pcbs:\n",
    "        source = './deleted_fill_zones/' + pcb + \".kicad_pcb\"\n",
    "        shutil.copy(source, target)\n",
    "    elif os.path.exists(target):\n",
    "        os.remove(target)\n",
    "\n",
    "    if os.path.exists('../../PCBs/' + pcb + '/error.log'):\n",
    "        os.remove('../../PCBs/' + pcb + '/error.log')\n",
    "\n",
    "    if os.path.exists('../../PCBs/' + pcb + '/final.json'):\n",
    "        os.remove('../../PCBs/' + pcb + '/final.json')\n"
   ]
  },
  {
   "cell_type": "code",
   "execution_count": 20,
   "metadata": {},
   "outputs": [
    {
     "name": "stdout",
     "output_type": "stream",
     "text": [
      "kitspace_d20_tri_r0.2\n",
      "{2}\n",
      "defaultdict(<class 'int'>, {'J1': 1, 'D1': 1, 'D90': 1, 'D17': 1, 'D2': 1, 'D3': 1, 'D4': 1, 'D5': 1, 'D6': 1, 'D7': 1, 'D8': 1, 'D9': 1, 'D10': 1, 'D11': 1, 'D12': 1, 'D13': 1, 'D14': 1, 'D15': 1, 'D18': 1, 'D19': 1, 'D20': 1, 'D21': 1, 'D22': 1, 'D23': 1, 'D24': 1, 'D25': 1, 'D26': 1, 'D27': 1, 'D28': 1, 'D29': 1, 'D30': 1, 'D33': 1, 'D34': 1, 'D35': 1, 'D36': 1, 'D37': 1, 'D38': 1, 'D39': 1, 'D40': 1, 'D41': 1, 'D42': 1, 'D43': 1, 'D44': 1, 'D45': 1, 'D49': 1, 'D50': 1, 'D51': 1, 'D52': 1, 'D53': 1, 'D54': 1, 'D55': 1, 'D56': 1, 'D57': 1, 'D58': 1, 'D59': 1, 'D60': 1, 'D65': 1, 'D66': 1, 'D67': 1, 'D68': 1, 'D69': 1, 'D70': 1, 'D71': 1, 'D72': 1, 'D73': 1, 'D74': 1, 'D75': 1, 'D81': 1, 'D82': 1, 'D83': 1, 'D84': 1, 'D85': 1, 'D86': 1, 'D87': 1, 'D88': 1, 'D89': 1, 'D103': 1, 'D97': 1, 'D98': 1, 'D99': 1, 'D100': 1, 'D101': 1, 'D102': 1, 'D104': 1, 'D105': 1, 'D113': 1, 'D114': 1, 'D115': 1, 'D116': 1, 'D117': 1, 'D118': 1, 'D119': 1, 'D120': 1, 'D129': 1, 'D130': 1, 'D131': 1, 'D132': 1, 'D133': 1, 'D134': 1, 'D135': 1, 'D145': 1, 'D146': 1, 'D147': 1, 'D148': 1, 'D149': 1, 'D150': 1, 'D161': 1, 'D162': 1, 'D163': 1, 'D164': 1, 'D165': 1, 'D177': 1, 'D178': 1, 'D179': 1, 'D180': 1, 'D193': 1, 'D194': 1, 'D195': 1, 'D209': 1, 'D210': 1, 'D225': 1, 'G***': 2, 'U5': 1, 'Q13': 1, 'U1': 1, 'U2': 1, 'U3': 1, 'U4': 1, 'C1': 1, 'C2': 1, 'C3': 1, 'R1': 1, 'R2': 1, 'R3': 1, 'Q1': 1, 'Q2': 1, 'Q3': 1, 'Q4': 1, 'Q5': 1, 'Q6': 1, 'Q7': 1, 'Q8': 1, 'Q9': 1, 'Q10': 1, 'Q11': 1, 'Q12': 1, 'Q14': 1, 'Q15': 1, 'J2': 1, 'U6': 1, 'U7': 1})\n",
      "kitspace_d20_tri_r0.3\n",
      "{2}\n",
      "defaultdict(<class 'int'>, {'Q2': 1, 'Q5': 1, 'J1': 1, 'D1': 1, 'D90': 1, 'D17': 1, 'D2': 1, 'D3': 1, 'D4': 1, 'D5': 1, 'D6': 1, 'D7': 1, 'D8': 1, 'D9': 1, 'D10': 1, 'D11': 1, 'D12': 1, 'D13': 1, 'D14': 1, 'D15': 1, 'D18': 1, 'D19': 1, 'D20': 1, 'D21': 1, 'D22': 1, 'D23': 1, 'D24': 1, 'D25': 1, 'D26': 1, 'D27': 1, 'D28': 1, 'D29': 1, 'D30': 1, 'D33': 1, 'D34': 1, 'D35': 1, 'D36': 1, 'D37': 1, 'D38': 1, 'D39': 1, 'D40': 1, 'D41': 1, 'D42': 1, 'D43': 1, 'D44': 1, 'D45': 1, 'D49': 1, 'D50': 1, 'D51': 1, 'D52': 1, 'D53': 1, 'D54': 1, 'D55': 1, 'D56': 1, 'D57': 1, 'D58': 1, 'D59': 1, 'D60': 1, 'D65': 1, 'D66': 1, 'D67': 1, 'D68': 1, 'D69': 1, 'D70': 1, 'D71': 1, 'D72': 1, 'D73': 1, 'D74': 1, 'D75': 1, 'D81': 1, 'D82': 1, 'D83': 1, 'D84': 1, 'D85': 1, 'D86': 1, 'D87': 1, 'D88': 1, 'D89': 1, 'D103': 1, 'D97': 1, 'D98': 1, 'D99': 1, 'D100': 1, 'D101': 1, 'D102': 1, 'D104': 1, 'D105': 1, 'D113': 1, 'D114': 1, 'D115': 1, 'D116': 1, 'D117': 1, 'D118': 1, 'D119': 1, 'D120': 1, 'D129': 1, 'D130': 1, 'D131': 1, 'D132': 1, 'D133': 1, 'D134': 1, 'D135': 1, 'D145': 1, 'D146': 1, 'D147': 1, 'D148': 1, 'D149': 1, 'D150': 1, 'D161': 1, 'D162': 1, 'D163': 1, 'D164': 1, 'D165': 1, 'D177': 1, 'D178': 1, 'D179': 1, 'D180': 1, 'D193': 1, 'D194': 1, 'D195': 1, 'D209': 1, 'D210': 1, 'D225': 1, 'G***': 2, 'U5': 1, 'Q13': 1, 'U1': 1, 'U2': 1, 'U3': 1, 'U4': 1, 'C1': 1, 'C2': 1, 'C3': 1, 'R1': 1, 'R2': 1, 'R3': 1, 'Q1': 1, 'Q3': 1, 'Q4': 1, 'Q6': 1, 'Q7': 1, 'Q8': 1, 'Q9': 1, 'Q10': 1, 'Q11': 1, 'Q12': 1, 'Q14': 1, 'Q15': 1, 'J2': 1, 'U6': 1, 'U7': 1})\n"
     ]
    }
   ],
   "source": [
    "import os\n",
    "import sys\n",
    "sys.path.append('..')\n",
    "from Data_extraction.thirdparty.kicad_parser.kicad_pcb import *\n",
    "\n",
    "fill_zone_folder = \"./Cleaning_PCBs/\"\n",
    "pcb_names = [\"kitspace_d20_tri_r0.2\", \"kitspace_d20_tri_r0.3\"]\n",
    "for name in pcb_names:\n",
    "    pcb_file_path = \"../../PCBs/\" + name + \"/raw.kicad_pcb\"\n",
    "    new_pcb_name = name + \".kicad_pcb\"\n",
    "    pcb = KicadPCB.load(pcb_file_path)\n",
    "    fill_zone_nets = set([])\n",
    "    for zone in pcb.zone:\n",
    "        fill_zone_nets.add(zone.net)\n",
    "    print(name)\n",
    "    print(fill_zone_nets)\n",
    "    del pcb.zone\n",
    "    delete_segment_via(pcb, fill_zone_nets)\n",
    "    revise_module_fp_text(pcb)\n",
    "\n",
    "    for m_i, m in enumerate(pcb.module):\n",
    "        for p_i, p in enumerate(pcb.module[m_i].pad):\n",
    "            if \"net\" in p and p[\"net\"][0] in fill_zone_nets:\n",
    "                del pcb.module[m_i].pad[p_i][\"net\"]\n",
    "\n",
    "    pcb.export(os.path.join(fill_zone_folder, new_pcb_name))\n",
    "\n"
   ]
  },
  {
   "cell_type": "code",
   "execution_count": null,
   "metadata": {},
   "outputs": [],
   "source": []
  }
 ],
 "metadata": {
  "kernelspec": {
   "display_name": "PCBench",
   "language": "python",
   "name": "python3"
  },
  "language_info": {
   "codemirror_mode": {
    "name": "ipython",
    "version": 3
   },
   "file_extension": ".py",
   "mimetype": "text/x-python",
   "name": "python",
   "nbconvert_exporter": "python",
   "pygments_lexer": "ipython3",
   "version": "3.8.16"
  },
  "orig_nbformat": 4
 },
 "nbformat": 4,
 "nbformat_minor": 2
}
