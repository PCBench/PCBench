{
 "cells": [
  {
   "cell_type": "code",
   "execution_count": 1,
   "metadata": {},
   "outputs": [
    {
     "name": "stdout",
     "output_type": "stream",
     "text": [
      "0.0 (0.30000000000000004, 0.0)\n",
      "(0.0, 0.0) 0 0\n",
      "(0.2, 0.0) 1 0\n",
      "(0.4, 0.0) 2 0\n",
      "[(1, 0), (2, 0)]\n"
     ]
    }
   ],
   "source": [
    "from geometry import nodes_inside_rectangle\n",
    "\n",
    "s = (1, 0)\n",
    "e = (2, 0)\n",
    "w = 0.15\n",
    "resolution = [0.2, 0.2]\n",
    "print(nodes_inside_rectangle(s, e, w, resolution))\n"
   ]
  },
  {
   "cell_type": "code",
   "execution_count": 2,
   "metadata": {},
   "outputs": [
    {
     "name": "stdout",
     "output_type": "stream",
     "text": [
      "[(1, 1)]\n"
     ]
    }
   ],
   "source": [
    "from geometry import nodes_inside_circle\n",
    "\n",
    "s = (1,1)\n",
    "w = 0.9\n",
    "resolution = [0.5, 0.5]\n",
    "print(nodes_inside_circle(s, w, resolution))"
   ]
  },
  {
   "cell_type": "code",
   "execution_count": null,
   "metadata": {},
   "outputs": [],
   "source": []
  }
 ],
 "metadata": {
  "kernelspec": {
   "display_name": "PCBench",
   "language": "python",
   "name": "python3"
  },
  "language_info": {
   "codemirror_mode": {
    "name": "ipython",
    "version": 3
   },
   "file_extension": ".py",
   "mimetype": "text/x-python",
   "name": "python",
   "nbconvert_exporter": "python",
   "pygments_lexer": "ipython3",
   "version": "3.8.16"
  },
  "orig_nbformat": 4
 },
 "nbformat": 4,
 "nbformat_minor": 2
}
