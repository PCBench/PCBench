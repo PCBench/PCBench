{
 "cells": [
  {
   "cell_type": "code",
   "execution_count": 1,
   "metadata": {},
   "outputs": [
    {
     "name": "stdout",
     "output_type": "stream",
     "text": [
      "wirelength means of FreeRouting, PcbRouter, and original solution: [ 943.01469522  897.89683495 1018.03307618]\n",
      "averages of number of vias of FreeRouting, PcbRouter, and original solution: [ 6.54567308 34.07932692 14.70432692]\n",
      "runtime means of FreeRouting and PcbRouter: [113.54691827  66.37331731]\n",
      "success rates of FreeRouting and PcbRouter: 0.7250423011844331, 0.43485617597292725\n"
     ]
    },
    {
     "name": "stderr",
     "output_type": "stream",
     "text": [
      "/home/youbiao/anaconda3/envs/PCBenchmark/lib/python3.8/site-packages/scipy/__init__.py:146: UserWarning: A NumPy version >=1.16.5 and <1.23.0 is required for this version of SciPy (detected version 1.23.5\n",
      "  warnings.warn(f\"A NumPy version >={np_minversion} and <{np_maxversion}\"\n"
     ]
    }
   ],
   "source": [
    "# calculate results from csv result file\n",
    "import csv\n",
    "from scipy.spatial.distance import euclidean\n",
    "\n",
    "def write_csv(data, file_name):\n",
    "    with open(file_name, 'w', newline='') as csvfile:\n",
    "        spamwriter = csv.writer(csvfile, delimiter=',')\n",
    "        for row in data:\n",
    "            spamwriter.writerow(row)\n",
    "\n",
    "\n",
    "def read_csv(file_name):\n",
    "    data = []\n",
    "    with open(file_name) as csvfile:\n",
    "        reader = csv.reader(csvfile, delimiter=',')\n",
    "        for row in reader:\n",
    "            data.append(row)\n",
    "    return data\n",
    "\n",
    "import numpy as np\n",
    "result_file = \"./Results_all.csv\"\n",
    "data = read_csv(result_file)\n",
    "fr_start, pcbrouter_start, original_start = 1, 5, 13\n",
    "heur_wl = []\n",
    "heur_via = []\n",
    "heur_rt = []\n",
    "fr_success = []\n",
    "pcbrouter_success = []\n",
    "total_pcb = len(data) - 2\n",
    "for row in data[2:]:\n",
    "    if row[fr_start] == \"Yes\" and row[pcbrouter_start] == \"Yes\":\n",
    "        heur_wl.append([float(row[fr_start+1]), float(row[pcbrouter_start+1]), float(row[original_start+1])])\n",
    "        heur_via.append([float(row[fr_start+2]), float(row[pcbrouter_start+2]), float(row[original_start+2])])\n",
    "        heur_rt.append([float(row[fr_start+3]), float(row[pcbrouter_start+3])])\n",
    "        fr_success.append(row[0])\n",
    "        pcbrouter_success.append(row[0])\n",
    "    elif row[fr_start] == \"Yes\":\n",
    "        fr_success.append(row[0])\n",
    "    elif row[pcbrouter_start] == \"Yes\":\n",
    "        pcbrouter_success.append(row[0])\n",
    "\n",
    "heur_wl = np.array(heur_wl)\n",
    "heur_via = np.array(heur_via)\n",
    "heur_rt = np.array(heur_rt)\n",
    "# print(heur_wl)\n",
    "print(f\"wirelength means of FreeRouting, PcbRouter, and original solution: {heur_wl.mean(axis=0)}\")\n",
    "print(f\"averages of number of vias of FreeRouting, PcbRouter, and original solution: {heur_via.mean(axis=0)}\")\n",
    "print(f\"runtime means of FreeRouting and PcbRouter: {heur_rt.mean(axis=0)}\")\n",
    "print(f\"success rates of FreeRouting and PcbRouter: {len(fr_success) / total_pcb}, {len(pcbrouter_success) / total_pcb}\")\n"
   ]
  },
  {
   "cell_type": "code",
   "execution_count": 6,
   "metadata": {},
   "outputs": [
    {
     "data": {
      "text/plain": [
       "array([2.5, 3.5, 4.5])"
      ]
     },
     "execution_count": 6,
     "metadata": {},
     "output_type": "execute_result"
    }
   ],
   "source": [
    "import numpy as np\n",
    "test = np.array([[1,2,3], [4,5,6]])\n",
    "test.mean(axis=0)"
   ]
  },
  {
   "cell_type": "code",
   "execution_count": 5,
   "metadata": {},
   "outputs": [
    {
     "name": "stdout",
     "output_type": "stream",
     "text": [
      "-0.05817320301758756\n"
     ]
    }
   ],
   "source": [
    "percent = (heur_wl[:,1] - heur_wl[:,0]) / heur_wl[:,0]\n",
    "print(percent.mean())"
   ]
  },
  {
   "cell_type": "code",
   "execution_count": null,
   "metadata": {},
   "outputs": [],
   "source": []
  }
 ],
 "metadata": {
  "kernelspec": {
   "display_name": "PCBenchmark",
   "language": "python",
   "name": "python3"
  },
  "language_info": {
   "codemirror_mode": {
    "name": "ipython",
    "version": 3
   },
   "file_extension": ".py",
   "mimetype": "text/x-python",
   "name": "python",
   "nbconvert_exporter": "python",
   "pygments_lexer": "ipython3",
   "version": "3.8.17"
  },
  "orig_nbformat": 4
 },
 "nbformat": 4,
 "nbformat_minor": 2
}
