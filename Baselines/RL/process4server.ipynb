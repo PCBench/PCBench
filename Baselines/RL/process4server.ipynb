{
 "cells": [
  {
   "cell_type": "code",
   "execution_count": 5,
   "metadata": {},
   "outputs": [],
   "source": [
    "# get runing list\n",
    "import os\n",
    "\n",
    "def write2txt(filename, lines):\n",
    "    with open(filename, 'w') as f:\n",
    "        for line in lines:\n",
    "            f.write(f\"{line}\\n\")\n",
    "\n",
    "groups_volunms = 20\n",
    "pcb_names = [name for name in os.listdir(\"../../PCBs/\") if \".json\" not in name]\n",
    "\n",
    "num_groups = len(pcb_names) // groups_volunms + 1\n",
    "\n",
    "for i in range(num_groups):\n",
    "    if (i + 1) * groups_volunms < len(pcb_names):\n",
    "        sub_pcb_names = pcb_names[i*groups_volunms: (i+1)*groups_volunms]\n",
    "    else:\n",
    "        sub_pcb_names = pcb_names[i*groups_volunms:]\n",
    "    write2txt(f\"pcb_names_{i}.txt\", sub_pcb_names)\n"
   ]
  },
  {
   "cell_type": "code",
   "execution_count": 7,
   "metadata": {},
   "outputs": [
    {
     "name": "stdout",
     "output_type": "stream",
     "text": [
      "2.0.0a2\n",
      "0.28.1\n"
     ]
    }
   ],
   "source": [
    "import gymnasium as gym\n",
    "import stable_baselines3 as sb3\n",
    "\n",
    "print(sb3.__version__)\n",
    "print(gym.__version__)"
   ]
  },
  {
   "cell_type": "code",
   "execution_count": null,
   "metadata": {},
   "outputs": [],
   "source": []
  }
 ],
 "metadata": {
  "kernelspec": {
   "display_name": "PCBenchmark",
   "language": "python",
   "name": "python3"
  },
  "language_info": {
   "codemirror_mode": {
    "name": "ipython",
    "version": 3
   },
   "file_extension": ".py",
   "mimetype": "text/x-python",
   "name": "python",
   "nbconvert_exporter": "python",
   "pygments_lexer": "ipython3",
   "version": "3.8.17"
  }
 },
 "nbformat": 4,
 "nbformat_minor": 2
}
