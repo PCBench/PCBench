{
 "cells": [
  {
   "cell_type": "code",
   "execution_count": 2,
   "metadata": {},
   "outputs": [
    {
     "name": "stdout",
     "output_type": "stream",
     "text": [
      "Warrning: kicad_pcb.py detected a kicad v6 file format, but                    \n",
      " could not find 1-Wire-Wing-pcb_1-Wire_Wing.kicad_pro in the directory of 1-Wire-Wing-pcb_1-Wire_Wing.kicad_pcb file                    Returning KicadPCB without getting .net_class attribute from project file\n",
      "Warning: 1-Wire-Wing-pcb_1-Wire_Wing.kicad_pcb has been initialized with an empty net_class attribute\n"
     ]
    },
    {
     "ename": "AttributeError",
     "evalue": "865: key \"angle\" not found",
     "output_type": "error",
     "traceback": [
      "\u001b[0;31m---------------------------------------------------------------------------\u001b[0m",
      "\u001b[0;31mAttributeError\u001b[0m                            Traceback (most recent call last)",
      "\u001b[1;32m/home/youbiao/PCBench/Baselines/heuristics/results.ipynb Cell 1\u001b[0m line \u001b[0;36m5\n\u001b[1;32m      <a href='vscode-notebook-cell://ssh-remote%2B10.24.47.91/home/youbiao/PCBench/Baselines/heuristics/results.ipynb#W0sdnNjb2RlLXJlbW90ZQ%3D%3D?line=1'>2</a>\u001b[0m \u001b[39mfrom\u001b[39;00m \u001b[39mScripts\u001b[39;00m\u001b[39m.\u001b[39;00m\u001b[39mData_extraction\u001b[39;00m\u001b[39m.\u001b[39;00m\u001b[39mextract_kicad\u001b[39;00m \u001b[39mimport\u001b[39;00m PCB\n\u001b[1;32m      <a href='vscode-notebook-cell://ssh-remote%2B10.24.47.91/home/youbiao/PCBench/Baselines/heuristics/results.ipynb#W0sdnNjb2RlLXJlbW90ZQ%3D%3D?line=3'>4</a>\u001b[0m test_pcb \u001b[39m=\u001b[39m \u001b[39m\"\u001b[39m\u001b[39m1-Wire-Wing-pcb_1-Wire_Wing.kicad_pcb\u001b[39m\u001b[39m\"\u001b[39m\n\u001b[0;32m----> <a href='vscode-notebook-cell://ssh-remote%2B10.24.47.91/home/youbiao/PCBench/Baselines/heuristics/results.ipynb#W0sdnNjb2RlLXJlbW90ZQ%3D%3D?line=4'>5</a>\u001b[0m kicad_pcb \u001b[39m=\u001b[39m PCB(test_pcb)\n",
      "File \u001b[0;32m~/anaconda3/envs/PCBenchmark/lib/python3.8/site-packages/PCBench-1.0-py3.8.egg/Scripts/Data_extraction/extract_kicad.py:45\u001b[0m, in \u001b[0;36mPCB.__init__\u001b[0;34m(self, kicad_file, delete_nets)\u001b[0m\n\u001b[1;32m     42\u001b[0m \u001b[39mself\u001b[39m\u001b[39m.\u001b[39mlayers \u001b[39m=\u001b[39m extract_layer(pcb\u001b[39m=\u001b[39m\u001b[39mself\u001b[39m\u001b[39m.\u001b[39mpcb, max_layer_index\u001b[39m=\u001b[39m\u001b[39mself\u001b[39m\u001b[39m.\u001b[39mmax_layer_index)\n\u001b[1;32m     44\u001b[0m \u001b[39m# extract boundary info: circuit region and boundary lines with width\u001b[39;00m\n\u001b[0;32m---> 45\u001b[0m lines \u001b[39m=\u001b[39m extract_bound(\u001b[39mself\u001b[39;49m\u001b[39m.\u001b[39;49mpcb)\n\u001b[1;32m     46\u001b[0m \u001b[39mself\u001b[39m\u001b[39m.\u001b[39mboundary_lines \u001b[39m=\u001b[39m lines\n\u001b[1;32m     48\u001b[0m \u001b[39m# extract net info: net indices, pads with their regions\u001b[39;00m\n",
      "File \u001b[0;32m~/anaconda3/envs/PCBenchmark/lib/python3.8/site-packages/PCBench-1.0-py3.8.egg/Scripts/Data_extraction/extract_kicad.py:288\u001b[0m, in \u001b[0;36mextract_bound\u001b[0;34m(pcb)\u001b[0m\n\u001b[1;32m    286\u001b[0m         width \u001b[39m=\u001b[39m arcs\u001b[39m.\u001b[39mwidth \u001b[39mif\u001b[39;00m \u001b[39m\"\u001b[39m\u001b[39mwidth\u001b[39m\u001b[39m\"\u001b[39m \u001b[39min\u001b[39;00m arcs \u001b[39melse\u001b[39;00m arcs\u001b[39m.\u001b[39mstroke\u001b[39m.\u001b[39mwidth\n\u001b[1;32m    287\u001b[0m         radius \u001b[39m=\u001b[39m distance\u001b[39m.\u001b[39meuclidean(\u001b[39mtuple\u001b[39m(arcs\u001b[39m.\u001b[39mend), \u001b[39mtuple\u001b[39m(arcs\u001b[39m.\u001b[39mstart))\n\u001b[0;32m--> 288\u001b[0m         end \u001b[39m=\u001b[39m calculate_arc_end_point(\u001b[39mtuple\u001b[39m(arcs\u001b[39m.\u001b[39mstart), \u001b[39mtuple\u001b[39m(arcs\u001b[39m.\u001b[39mend), arcs\u001b[39m.\u001b[39;49mangle)\n\u001b[1;32m    289\u001b[0m         lines\u001b[39m.\u001b[39mappend({\u001b[39m\"\u001b[39m\u001b[39mtype\u001b[39m\u001b[39m\"\u001b[39m:\u001b[39m\"\u001b[39m\u001b[39marc\u001b[39m\u001b[39m\"\u001b[39m, \u001b[39m\"\u001b[39m\u001b[39mvertices\u001b[39m\u001b[39m\"\u001b[39m:[\u001b[39mtuple\u001b[39m(arcs\u001b[39m.\u001b[39mstart), end], \u001b[39m\"\u001b[39m\u001b[39mradius\u001b[39m\u001b[39m\"\u001b[39m:radius})\n\u001b[1;32m    291\u001b[0m \u001b[39mfor\u001b[39;00m circle \u001b[39min\u001b[39;00m gr_circles:\n",
      "File \u001b[0;32m~/anaconda3/envs/PCBenchmark/lib/python3.8/site-packages/PCBench-1.0-py3.8.egg/Scripts/Data_extraction/thirdparty/kicad_parser/sexp_parser.py:178\u001b[0m, in \u001b[0;36mSexp.__getattr__\u001b[0;34m(self, name)\u001b[0m\n\u001b[1;32m    176\u001b[0m \u001b[39mexcept\u001b[39;00m \u001b[39mKeyError\u001b[39;00m:\n\u001b[1;32m    177\u001b[0m     \u001b[39mpass\u001b[39;00m\n\u001b[0;32m--> 178\u001b[0m \u001b[39mraise\u001b[39;00m \u001b[39mAttributeError\u001b[39;00m(\u001b[39m'\u001b[39m\u001b[39m{}\u001b[39;00m\u001b[39m: key \u001b[39m\u001b[39m\"\u001b[39m\u001b[39m{}\u001b[39;00m\u001b[39m\"\u001b[39m\u001b[39m not found\u001b[39m\u001b[39m'\u001b[39m\u001b[39m.\u001b[39mformat(\u001b[39mself\u001b[39m\u001b[39m.\u001b[39m_line,name))\n",
      "\u001b[0;31mAttributeError\u001b[0m: 865: key \"angle\" not found"
     ]
    }
   ],
   "source": [
    "import os\n",
    "from Scripts.Data_extraction.extract_kicad import PCB\n",
    "\n",
    "test_pcb = \"1-Wire-Wing-pcb_1-Wire_Wing.kicad_pcb\"\n",
    "kicad_pcb = PCB(test_pcb)"
   ]
  },
  {
   "cell_type": "code",
   "execution_count": null,
   "metadata": {},
   "outputs": [],
   "source": []
  }
 ],
 "metadata": {
  "kernelspec": {
   "display_name": "PCBenchmark",
   "language": "python",
   "name": "python3"
  },
  "language_info": {
   "codemirror_mode": {
    "name": "ipython",
    "version": 3
   },
   "file_extension": ".py",
   "mimetype": "text/x-python",
   "name": "python",
   "nbconvert_exporter": "python",
   "pygments_lexer": "ipython3",
   "version": "3.8.17"
  }
 },
 "nbformat": 4,
 "nbformat_minor": 2
}
