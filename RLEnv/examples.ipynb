{
 "cells": [
  {
   "attachments": {},
   "cell_type": "markdown",
   "metadata": {},
   "source": [
    "# Examples of API usage of PCB routing environment"
   ]
  },
  {
   "cell_type": "code",
   "execution_count": 1,
   "metadata": {},
   "outputs": [],
   "source": [
    "from RLEnv.EnvLayer.PCBRoutingEnv import PCBRoutingEnv\n",
    "import random\n",
    "\n",
    "resolution = [0.5, 0.5]\n",
    "pcb_folder = '../PCBs/'\n",
    "pcb_names = [\"1Bitsy_1bitsy\"]\n",
    "iters = 30\n",
    "\n",
    "env = PCBRoutingEnv(\n",
    "    resolution=resolution, \n",
    "    pcb_folder=pcb_folder, \n",
    "    pcb_names=pcb_names\n",
    ")\n",
    "\n",
    "obs, info = env.reset()\n",
    "for _ in range(iters):\n",
    "    act = random.randint(0,5) # the number of actions are fixed, from 0-5\n",
    "    obs, rew, terminal, _, info = env.step(act)\n",
    "    if terminal:\n",
    "        env.reset()\n"
   ]
  },
  {
   "attachments": {},
   "cell_type": "markdown",
   "metadata": {},
   "source": [
    "## Example of customizing state observation and reward functions. "
   ]
  },
  {
   "cell_type": "code",
   "execution_count": 2,
   "metadata": {},
   "outputs": [],
   "source": [
    "from typing import List\n",
    "from RLEnv.EnvLayer.PCBRoutingEnv import PCBRoutingEnv\n",
    "\n",
    "\n",
    "class ExampleEnv(PCBRoutingEnv):\n",
    "    def __init__(\n",
    "        self, \n",
    "        resolution: float, \n",
    "        pcb_folder: str, \n",
    "        pcb_names: List[str], \n",
    "        path_cost: float = 1.0\n",
    "    ) -> None:\n",
    "        super().__init__(resolution, pcb_folder, pcb_names)\n",
    "        self.path_cost = path_cost\n",
    "\n",
    "    def _get_obs(self):\n",
    "        agent_location = self.PCB_state.agent_location\n",
    "        return agent_location\n",
    "        \n",
    "    def reward(self):\n",
    "        return -self.path_cost\n"
   ]
  },
  {
   "cell_type": "code",
   "execution_count": null,
   "metadata": {},
   "outputs": [],
   "source": []
  }
 ],
 "metadata": {
  "kernelspec": {
   "display_name": "PCBench",
   "language": "python",
   "name": "python3"
  },
  "language_info": {
   "codemirror_mode": {
    "name": "ipython",
    "version": 3
   },
   "file_extension": ".py",
   "mimetype": "text/x-python",
   "name": "python",
   "nbconvert_exporter": "python",
   "pygments_lexer": "ipython3",
   "version": "3.8.16"
  },
  "orig_nbformat": 4
 },
 "nbformat": 4,
 "nbformat_minor": 2
}
